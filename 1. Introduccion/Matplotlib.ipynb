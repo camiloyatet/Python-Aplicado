{
 "cells": [
  {
   "cell_type": "markdown",
   "metadata": {
    "colab_type": "text",
    "id": "4FBEIfWuuMs4"
   },
   "source": [
    "___\n",
    "\n",
    "\n",
    "# Matplotlib"
   ]
  },
  {
   "cell_type": "markdown",
   "metadata": {
    "colab_type": "text",
    "id": "aeVIP4jzuMs5"
   },
   "source": [
    "## Introducción"
   ]
  },
  {
   "cell_type": "markdown",
   "metadata": {
    "colab_type": "text",
    "id": "D4Q9tkqJuMs6"
   },
   "source": [
    "Matplotlib es la librería de gráficos 2D y 3D por excelencia de Python. Fue creada por John Hunter asemejando las  funcionalidades de visualización de MatLab en Python. \n",
    "\n",
    "Algunas de las principales ventajas de Matplotlib son:\n",
    "\n",
    "* Salida de alta calidad en muchos formatos.\n",
    "* Muy personalizable.\n",
    "* Todos los aspectos de las gráfica se controlan mediante código, por lo cual es reproducible.\n",
    "\n",
    "Para mayor información ingrese a la página web oficial de Matplotlib: http://matplotlib.org/\n",
    "    \n"
   ]
  },
  {
   "cell_type": "markdown",
   "metadata": {
    "colab_type": "text",
    "id": "7nNPMd91m9Qi"
   },
   "source": [
    "### Instalación \n",
    "\n",
    "Matplot lib ya viene instalado en Colaboratory. De todas maneras, para instalar el módulo en otro ambiente se hace con el siguiente comando:\n",
    "\n",
    "    pip install matplotlib"
   ]
  },
  {
   "cell_type": "markdown",
   "metadata": {
    "colab_type": "text",
    "id": "rBHDPGV3nPXb"
   },
   "source": [
    "### Importar\n",
    "\n",
    "Importamos el módulo **matplotlib.pyplot** como **plt**  (convención):"
   ]
  },
  {
   "cell_type": "code",
   "execution_count": null,
   "metadata": {
    "colab": {},
    "colab_type": "code",
    "id": "aPf1Ub-luMs8"
   },
   "outputs": [],
   "source": [
    "import matplotlib.pyplot as plt"
   ]
  },
  {
   "cell_type": "markdown",
   "metadata": {
    "colab_type": "text",
    "id": "iHKbwAi9uMtB"
   },
   "source": [
    "Para ver las figuras dentro del Notebook es necesario ejecutar también el siguiente comando:"
   ]
  },
  {
   "cell_type": "code",
   "execution_count": null,
   "metadata": {
    "colab": {},
    "colab_type": "code",
    "id": "fCQG7aTSuMtC"
   },
   "outputs": [],
   "source": [
    "%matplotlib inline"
   ]
  },
  {
   "cell_type": "markdown",
   "metadata": {
    "colab_type": "text",
    "id": "_-MKc4BquMtF"
   },
   "source": [
    "Tenga en cuenta que este comando es necesario sólo para Jupyter Notebooks. Si está usando otro editor, deberá usar: ** plt.show () ** al final de todos sus instrucciones de gráficas para que aparezca la figura en otra ventana."
   ]
  },
  {
   "cell_type": "markdown",
   "metadata": {
    "colab_type": "text",
    "id": "-7uS-kHruMtG"
   },
   "source": [
    "### Ejemplo\n",
    "\n",
    "Un ejemplo sencillo para ilustrar el empleo de  esta libreria, es mediante el uso de dos arreglos de NumPy, Se podrían usar también listas de Python, pero es probable que en la práctica, la mayoria de las veces su uso se haga con arreglos NumPy o con columnas de DataFrames de Pandas, y asi será también en este curso, \n",
    "\n",
    "**Construimos los datos que queremos graficar:**"
   ]
  },
  {
   "cell_type": "markdown",
   "metadata": {
    "colab_type": "text",
    "id": "aDY0Fd-pqVFh"
   },
   "source": [
    "Generaremos el arreglo **x**  que contendrá once números entre 0 y 5, separados de forma uniforme (función **linspace**) y un segundo arreglo **y** en el cual sus elementos son los mismos del arreglo **x** elevados al cuadrado:"
   ]
  },
  {
   "cell_type": "code",
   "execution_count": null,
   "metadata": {
    "colab": {},
    "colab_type": "code",
    "id": "Y3qBBgx_uMtH"
   },
   "outputs": [],
   "source": [
    "import numpy as np\n",
    "x = np.linspace(0, 5, 11) \n",
    "y = x ** 2                "
   ]
  },
  {
   "cell_type": "code",
   "execution_count": null,
   "metadata": {
    "colab": {
     "base_uri": "https://localhost:8080/",
     "height": 34
    },
    "colab_type": "code",
    "executionInfo": {
     "elapsed": 633,
     "status": "ok",
     "timestamp": 1583587052509,
     "user": {
      "displayName": "Beimar Rodriguez",
      "photoUrl": "https://lh3.googleusercontent.com/a-/AOh14GjuX40-0URd_w6GeGbIxaGemRJIwK0vNXOoFOBeCg=s64",
      "userId": "17662544329171634219"
     },
     "user_tz": 300
    },
    "id": "6gcgQ-PzuMtK",
    "outputId": "0da40a34-3b9e-4956-b8a2-5099e50ba2de"
   },
   "outputs": [],
   "source": [
    "x"
   ]
  },
  {
   "cell_type": "code",
   "execution_count": null,
   "metadata": {
    "colab": {
     "base_uri": "https://localhost:8080/",
     "height": 51
    },
    "colab_type": "code",
    "executionInfo": {
     "elapsed": 660,
     "status": "ok",
     "timestamp": 1583587109103,
     "user": {
      "displayName": "Beimar Rodriguez",
      "photoUrl": "https://lh3.googleusercontent.com/a-/AOh14GjuX40-0URd_w6GeGbIxaGemRJIwK0vNXOoFOBeCg=s64",
      "userId": "17662544329171634219"
     },
     "user_tz": 300
    },
    "id": "PFvPedS5uMtN",
    "outputId": "86e89265-f670-4c05-8bd1-3fc14a116597"
   },
   "outputs": [],
   "source": [
    "y"
   ]
  },
  {
   "cell_type": "code",
   "execution_count": null,
   "metadata": {
    "colab": {
     "base_uri": "https://localhost:8080/",
     "height": 34
    },
    "colab_type": "code",
    "executionInfo": {
     "elapsed": 706,
     "status": "ok",
     "timestamp": 1583587119076,
     "user": {
      "displayName": "Beimar Rodriguez",
      "photoUrl": "https://lh3.googleusercontent.com/a-/AOh14GjuX40-0URd_w6GeGbIxaGemRJIwK0vNXOoFOBeCg=s64",
      "userId": "17662544329171634219"
     },
     "user_tz": 300
    },
    "id": "LOR5eZFxxSqw",
    "outputId": "12934a22-4dee-48be-d9ed-c5266c67c136"
   },
   "outputs": [],
   "source": [
    "print(y)"
   ]
  },
  {
   "cell_type": "markdown",
   "metadata": {
    "colab_type": "text",
    "id": "OK8_sZ4vuMtR"
   },
   "source": [
    "**Existen 2 formas de trabajar con matplotlib: método funcional y método orientado a objetos.**"
   ]
  },
  {
   "cell_type": "markdown",
   "metadata": {
    "colab_type": "text",
    "id": "F-oqzQQtnqn5"
   },
   "source": [
    "___\n",
    "## Método funcional\n",
    "\n",
    "En el modo funcional se usa la función plot, a la cual le son pasados los datos a diagramar, para el caso del ejemplo, se pasan como argumentos los arreglos 'x' y 'y'"
   ]
  },
  {
   "cell_type": "code",
   "execution_count": null,
   "metadata": {
    "colab": {
     "base_uri": "https://localhost:8080/",
     "height": 265
    },
    "colab_type": "code",
    "executionInfo": {
     "elapsed": 809,
     "status": "ok",
     "timestamp": 1583587194082,
     "user": {
      "displayName": "Beimar Rodriguez",
      "photoUrl": "https://lh3.googleusercontent.com/a-/AOh14GjuX40-0URd_w6GeGbIxaGemRJIwK0vNXOoFOBeCg=s64",
      "userId": "17662544329171634219"
     },
     "user_tz": 300
    },
    "id": "MAK9Gg0JuMtS",
    "outputId": "c5a613c9-d491-4c1d-d7ef-d0e2461a85e1"
   },
   "outputs": [],
   "source": [
    "plt.plot(x, y,c='r')\n",
    "plt.show()    "
   ]
  },
  {
   "cell_type": "markdown",
   "metadata": {
    "colab_type": "text",
    "id": "pqJpwxHk4RRs"
   },
   "source": [
    "El resultado es la graficación en un plano cartesiano de los valores contenidos en los dos arrays **x** y **y**\n",
    "\n",
    "Matplotlib permite la personalización de las gráficas generadas, dentro de las opciones que se pueden personalizar están los titulos de los ejes **x** y **y**, el titulo del diagrama, el color de la gŕafica, el tamaño y forma de cada para de datos en el diagrama, etc, como se muestra en el siguiente código:"
   ]
  },
  {
   "cell_type": "code",
   "execution_count": null,
   "metadata": {
    "colab": {
     "base_uri": "https://localhost:8080/",
     "height": 265
    },
    "colab_type": "code",
    "executionInfo": {
     "elapsed": 682,
     "status": "ok",
     "timestamp": 1583587328534,
     "user": {
      "displayName": "Beimar Rodriguez",
      "photoUrl": "https://lh3.googleusercontent.com/a-/AOh14GjuX40-0URd_w6GeGbIxaGemRJIwK0vNXOoFOBeCg=s64",
      "userId": "17662544329171634219"
     },
     "user_tz": 300
    },
    "id": "PYd7pL_uuMtV",
    "outputId": "5d943208-ef0b-4a88-f910-762d7c35e16f"
   },
   "outputs": [],
   "source": [
    "plt.plot(x, y, 'r--', marker='o',) # 'r' define el color rojo (red), 'marker' define la representación de cada par de datos\n",
    "\n",
    "plt.show()\n"
   ]
  },
  {
   "cell_type": "markdown",
   "metadata": {
    "colab_type": "text",
    "id": "ICIJPOyRmX6A"
   },
   "source": [
    "Con Matpotlib es posible hacer modificaciones al estilo de MatLab para controlar el aspecto de las gráficas, por ejemplo se puede definir el color y el estilo de linea como se ilustra en el siguiente ejemplo:"
   ]
  },
  {
   "cell_type": "code",
   "execution_count": null,
   "metadata": {
    "colab": {
     "base_uri": "https://localhost:8080/",
     "height": 286
    },
    "colab_type": "code",
    "executionInfo": {
     "elapsed": 496,
     "status": "ok",
     "timestamp": 1566650916202,
     "user": {
      "displayName": "Jorge Eliecer Camargo Mendoza",
      "photoUrl": "https://lh3.googleusercontent.com/a-/AAuE7mABqwDZWVpHOYngU9ZIe8V9pjUGlU8t-imO83-blA=s64",
      "userId": "02835507447501590248"
     },
     "user_tz": 300
    },
    "id": "nuCmWCHAuMte",
    "outputId": "6656d78c-1908-4130-dd7a-31f7180962d9"
   },
   "outputs": [],
   "source": [
    "plt.plot(x, y, 'b--')"
   ]
  },
  {
   "cell_type": "markdown",
   "metadata": {
    "colab_type": "text",
    "id": "z1T_VJp7uMti"
   },
   "source": [
    "### Creación de múltiples figuras en el mismo lienzo"
   ]
  },
  {
   "cell_type": "markdown",
   "metadata": {
    "colab_type": "text",
    "id": "Aq0TtennoEE-"
   },
   "source": [
    "Matplotlib permite dibujar mas de una gŕafica sobre el mismo espacio o canvas, esto se realiza mediante la función subplot, la cual recibe básicamente tres parametros que corresponden al número de filas, el número de columnas y el número del 'plot'."
   ]
  },
  {
   "cell_type": "code",
   "execution_count": null,
   "metadata": {
    "colab": {
     "base_uri": "https://localhost:8080/",
     "height": 282
    },
    "colab_type": "code",
    "executionInfo": {
     "elapsed": 715,
     "status": "ok",
     "timestamp": 1583587434862,
     "user": {
      "displayName": "Beimar Rodriguez",
      "photoUrl": "https://lh3.googleusercontent.com/a-/AOh14GjuX40-0URd_w6GeGbIxaGemRJIwK0vNXOoFOBeCg=s64",
      "userId": "17662544329171634219"
     },
     "user_tz": 300
    },
    "id": "_LQGGCTZuMtj",
    "outputId": "1adf0b3e-c559-4b1e-97ce-6772f98844dd"
   },
   "outputs": [],
   "source": [
    "# plt.subplot(nrows, ncols, plot_number)\n",
    "plt.subplot(1,2,1)      # 1 fila, 2 columnas y se esta referenciando el número 1\n",
    "plt.plot(x, y, 'r--')\n",
    "plt.subplot(1,2,2)      # ahora se referencia el plot número 2\n",
    "plt.plot(y, x, 'g*--')"
   ]
  },
  {
   "cell_type": "markdown",
   "metadata": {
    "colab_type": "text",
    "id": "dcUAa8z0q-Ug"
   },
   "source": [
    "Con el tercer parámetro se referencia el plot (sección del canvas) sobre el que se dibujará, como ejemplo vemos en el siguiente código que al mantener referenciado el mismo plot, logramos que las gŕaficas se dibujen sobre el mismo plot"
   ]
  },
  {
   "cell_type": "code",
   "execution_count": null,
   "metadata": {
    "colab": {
     "base_uri": "https://localhost:8080/",
     "height": 282
    },
    "colab_type": "code",
    "executionInfo": {
     "elapsed": 990,
     "status": "ok",
     "timestamp": 1583587529192,
     "user": {
      "displayName": "Beimar Rodriguez",
      "photoUrl": "https://lh3.googleusercontent.com/a-/AOh14GjuX40-0URd_w6GeGbIxaGemRJIwK0vNXOoFOBeCg=s64",
      "userId": "17662544329171634219"
     },
     "user_tz": 300
    },
    "id": "xgoIP0OgsDkj",
    "outputId": "4bda4944-d0ff-4b37-8a52-9c705a72176d"
   },
   "outputs": [],
   "source": [
    "plt.subplot(1,2,1)      # 1 fila, dos columnas y se esta referenciando el número 1\n",
    "plt.plot(x, y, 'r--')\n",
    "plt.plot(x+1, y-1, 'g--')\n",
    "plt.plot(y, x, 'g*-')   # Con la referencia aún al plot 1, se dibuja otra gŕafica\n",
    "plt.subplot(1,2,2)      # ahora se referencia el plot número 2\n",
    "plt.plot(y, x, 'g*-')"
   ]
  },
  {
   "cell_type": "markdown",
   "metadata": {
    "colab_type": "text",
    "id": "o3h2A1EAuMtm"
   },
   "source": [
    "___\n",
    "## Método orientado a objetos\n",
    "\n",
    "A continuación realizaremos una introducción al método orientado a objetos de Matplotlib. \n",
    "\n",
    "La lógica consiste en  crear objetos de la clase Figura y luego emplear métodos o atributos de ese objeto. Este enfoque es más práctico cuando se trata de un canvas que tiene múltiples gráficos en él.\n",
    "\n",
    "Para comenzar, creamos una instancia de figura, posteriormente se agregan los ejes a esa figura, los ejes se adicionan con la función add_axes(), la cual recibe como parametros valores entre cero y uno en notación decimal que representan en forma porcentual la posición de los ejes (izquierda, abajo), y las dimensiones de estos (ancho, alto):"
   ]
  },
  {
   "cell_type": "code",
   "execution_count": null,
   "metadata": {
    "colab": {
     "base_uri": "https://localhost:8080/",
     "height": 193
    },
    "colab_type": "code",
    "executionInfo": {
     "elapsed": 687,
     "status": "ok",
     "timestamp": 1583587731025,
     "user": {
      "displayName": "Beimar Rodriguez",
      "photoUrl": "https://lh3.googleusercontent.com/a-/AOh14GjuX40-0URd_w6GeGbIxaGemRJIwK0vNXOoFOBeCg=s64",
      "userId": "17662544329171634219"
     },
     "user_tz": 300
    },
    "id": "MzjvmDFFrxvI",
    "outputId": "3670cc70-b2f6-4bda-e2ad-10fdaa83540a"
   },
   "outputs": [],
   "source": [
    "fig = plt.figure()   #Creamos una Figura (lienzo vacío) \n",
    "ejes = fig.add_axes([0.2, 0.1, 0.8, 0.4])   #añadimos los ejes\n",
    "ejes.plot(x, y, 'r--')     # 'r' hace referencia al color rojo (forma rgb)\n",
    "ejes.set_xlabel('Eje X') # Nótese el uso de \"set_\" al principio del nombre de los métodos\n",
    "ejes.set_ylabel('Eje Y')\n",
    "ejes.set_title('Título de la Figura')\n",
    "\n",
    "fig.show()"
   ]
  },
  {
   "cell_type": "markdown",
   "metadata": {
    "colab_type": "text",
    "id": "v4iRY62VuMtp"
   },
   "source": [
    "Aunque en principio el código puede parecer un poco más complicado, el método orientado a objetos tiene mayores ventajas que el método convencional, ya que permite mas control sobre la diagramación, por ejemplo se tiene mas control sobre el manejo y ubicación de los ejes, pudiendo entre otras cosas trabajar con mas de un par de ejes sobre una misma gráfica como se muestra en el siguiente ejemplo:"
   ]
  },
  {
   "cell_type": "code",
   "execution_count": null,
   "metadata": {
    "colab": {
     "base_uri": "https://localhost:8080/",
     "height": 308
    },
    "colab_type": "code",
    "executionInfo": {
     "elapsed": 1047,
     "status": "ok",
     "timestamp": 1583587995010,
     "user": {
      "displayName": "Beimar Rodriguez",
      "photoUrl": "https://lh3.googleusercontent.com/a-/AOh14GjuX40-0URd_w6GeGbIxaGemRJIwK0vNXOoFOBeCg=s64",
      "userId": "17662544329171634219"
     },
     "user_tz": 300
    },
    "id": "t7hoUz4TuMtq",
    "outputId": "bc2fff20-3da5-4f26-e576-48880a6c4459"
   },
   "outputs": [],
   "source": [
    "# Crea un canvas vacío\n",
    "fig = plt.figure()\n",
    "\n",
    "axes1 = fig.add_axes([0.1, 0.1, 0.8, 0.8]) # eje principal\n",
    "axes2 = fig.add_axes([0.4, 0.4, 0.3, 0.4]) # eje interior\n",
    "\n",
    "\n",
    "# Figura principal Axes 1\n",
    "axes1.plot(x, y, 'b')\n",
    "axes1.set_xlabel('Eje X Principal 1')\n",
    "axes1.set_ylabel('Eje Y Principal 1')\n",
    "axes1.set_title('Título Principal 1')\n",
    "\n",
    "# Inserta Figura Axes 2\n",
    "axes2.plot(y, x, 'b')\n",
    "axes2.set_xlabel('Eje X interior 2')\n",
    "axes2.set_ylabel('Eje Y interior 2')\n",
    "axes2.set_title('Título interior 2')\n",
    "axes2.set_facecolor('r')\n",
    "\n",
    "fig.show()"
   ]
  },
  {
   "cell_type": "markdown",
   "metadata": {
    "colab_type": "text",
    "id": "UQ-dC7sIuMtt"
   },
   "source": [
    "### subplots()\n",
    "\n",
    "El método plt.subplots() sirve como gestor automático de gráficos, de esta manera se pueden crear mas de una gŕafica sobre un mismo canvas o instancia de figure. El método retorna una instancia de tipo figura y un arreglo de ejes que referencia a cada una de las gŕaficas.\n",
    "\n",
    "Casos de uso básicos:"
   ]
  },
  {
   "cell_type": "code",
   "execution_count": null,
   "metadata": {
    "colab": {
     "base_uri": "https://localhost:8080/",
     "height": 295
    },
    "colab_type": "code",
    "executionInfo": {
     "elapsed": 682,
     "status": "ok",
     "timestamp": 1583588072077,
     "user": {
      "displayName": "Beimar Rodriguez",
      "photoUrl": "https://lh3.googleusercontent.com/a-/AOh14GjuX40-0URd_w6GeGbIxaGemRJIwK0vNXOoFOBeCg=s64",
      "userId": "17662544329171634219"
     },
     "user_tz": 300
    },
    "id": "3s55xohguMtu",
    "outputId": "dfffe720-21d3-478d-a989-cbf4ba457c11"
   },
   "outputs": [],
   "source": [
    "# Se usa de forma similar a plt.figure() excepto que devuelve al mismo tiempo un objeto Figura y un objeto (o un arreglo) de ejes\n",
    "fig, axes = plt.subplots()\n",
    "\n",
    "# Ahora se usa el eje, como antes, para graficar en él\n",
    "axes.plot(x, y, 'r')\n",
    "axes.set_xlabel('x')\n",
    "axes.set_ylabel('y')\n",
    "axes.set_title('Título');\n"
   ]
  },
  {
   "cell_type": "markdown",
   "metadata": {
    "colab_type": "text",
    "id": "EmXloW_quMtz"
   },
   "source": [
    "En el llamado al método subplots(), se puede especificar el número de filas y columnas en que se dividirá el canvas para mostrar el arreglo de figuras que se desee, cada eje retornado en el arreglo puede ser referenciado mediante el uso de indices, para controlar de manera independiente las propiedades y el aspecto de cada gŕafico. El número de columnas se define mediante el parámetro nrows y el de columnas mediante el parametro ncols, en el siguiente ejemplo se ilustra el uso mediante la creación de un canvas con 1 fila y dos columnas ( dos gráficos )"
   ]
  },
  {
   "cell_type": "code",
   "execution_count": null,
   "metadata": {
    "colab": {
     "base_uri": "https://localhost:8080/",
     "height": 269
    },
    "colab_type": "code",
    "executionInfo": {
     "elapsed": 683,
     "status": "ok",
     "timestamp": 1583588188638,
     "user": {
      "displayName": "Beimar Rodriguez",
      "photoUrl": "https://lh3.googleusercontent.com/a-/AOh14GjuX40-0URd_w6GeGbIxaGemRJIwK0vNXOoFOBeCg=s64",
      "userId": "17662544329171634219"
     },
     "user_tz": 300
    },
    "id": "fY24P9dZuMt1",
    "outputId": "d2393a84-7eb4-44de-f22a-c0293a65e373"
   },
   "outputs": [],
   "source": [
    "# Canvas vacío de 1x2 subplots\n",
    "fig, axes = plt.subplots(nrows=1, ncols=2)"
   ]
  },
  {
   "cell_type": "code",
   "execution_count": null,
   "metadata": {
    "colab": {
     "base_uri": "https://localhost:8080/",
     "height": 68
    },
    "colab_type": "code",
    "executionInfo": {
     "elapsed": 653,
     "status": "ok",
     "timestamp": 1583588244151,
     "user": {
      "displayName": "Beimar Rodriguez",
      "photoUrl": "https://lh3.googleusercontent.com/a-/AOh14GjuX40-0URd_w6GeGbIxaGemRJIwK0vNXOoFOBeCg=s64",
      "userId": "17662544329171634219"
     },
     "user_tz": 300
    },
    "id": "h9rfzDx62zYP",
    "outputId": "ed58390d-e12b-4003-883c-4b3f249dd889"
   },
   "outputs": [],
   "source": [
    "axes"
   ]
  },
  {
   "cell_type": "markdown",
   "metadata": {
    "colab_type": "text",
    "id": "_1J4wdCoyQ7i"
   },
   "source": [
    "El objeto axes retornado es un arreglo de ejes sobre los cuales se puede graficar, por lo tanto es posible: referenciar cada gráfico mediante sus indices, graficar sobre cada uno de ellos y definir su aspecto de manera independiente:\n",
    "\n",
    "---\n",
    "\n"
   ]
  },
  {
   "cell_type": "code",
   "execution_count": null,
   "metadata": {
    "colab": {
     "base_uri": "https://localhost:8080/",
     "height": 281
    },
    "colab_type": "code",
    "executionInfo": {
     "elapsed": 671,
     "status": "ok",
     "timestamp": 1583588309449,
     "user": {
      "displayName": "Beimar Rodriguez",
      "photoUrl": "https://lh3.googleusercontent.com/a-/AOh14GjuX40-0URd_w6GeGbIxaGemRJIwK0vNXOoFOBeCg=s64",
      "userId": "17662544329171634219"
     },
     "user_tz": 300
    },
    "id": "WJmU5ftLuMt6",
    "outputId": "c5907e5f-fd5a-4a0f-eeab-5480fd8e644e"
   },
   "outputs": [],
   "source": [
    "fig, axes = plt.subplots(nrows=1, ncols=2)\n",
    "axes[0].plot(x,y,'r--')\n",
    "axes[1].plot(y,x,'b')\n",
    "axes[0].set_title('Gráfico 1')\n",
    "axes[1].set_title('Gráfico 2')\n",
    "plt.show()"
   ]
  },
  {
   "cell_type": "code",
   "execution_count": null,
   "metadata": {
    "colab": {
     "base_uri": "https://localhost:8080/",
     "height": 34
    },
    "colab_type": "code",
    "executionInfo": {
     "elapsed": 633,
     "status": "ok",
     "timestamp": 1583588334051,
     "user": {
      "displayName": "Beimar Rodriguez",
      "photoUrl": "https://lh3.googleusercontent.com/a-/AOh14GjuX40-0URd_w6GeGbIxaGemRJIwK0vNXOoFOBeCg=s64",
      "userId": "17662544329171634219"
     },
     "user_tz": 300
    },
    "id": "vt4_djnjfrC0",
    "outputId": "6aa2c157-39ce-411f-c6aa-f0f4b4967cd1"
   },
   "outputs": [],
   "source": [
    "len(axes)"
   ]
  },
  {
   "cell_type": "markdown",
   "metadata": {
    "colab_type": "text",
    "id": "2hhvzDPCCfnP"
   },
   "source": [
    "subplots tambien puede ser definido con mas de una fila y mas de una columna:"
   ]
  },
  {
   "cell_type": "code",
   "execution_count": null,
   "metadata": {
    "colab": {
     "base_uri": "https://localhost:8080/",
     "height": 297
    },
    "colab_type": "code",
    "executionInfo": {
     "elapsed": 1839,
     "status": "ok",
     "timestamp": 1583589118226,
     "user": {
      "displayName": "Beimar Rodriguez",
      "photoUrl": "https://lh3.googleusercontent.com/a-/AOh14GjuX40-0URd_w6GeGbIxaGemRJIwK0vNXOoFOBeCg=s64",
      "userId": "17662544329171634219"
     },
     "user_tz": 300
    },
    "id": "dKhrV6nKuMuF",
    "outputId": "f5e18404-7997-47a2-fcb8-fb24767e3e11"
   },
   "outputs": [],
   "source": [
    "# Canvas vacío de 2x4 subplots\n",
    "fig, axes = plt.subplots(nrows=2, ncols=4)\n",
    "axes[0][2].plot(x, y, 'b')\n",
    "fig.tight_layout()   #para evitar superposición de elementos"
   ]
  },
  {
   "cell_type": "markdown",
   "metadata": {
    "colab_type": "text",
    "id": "4ZcfOJH4uMuR"
   },
   "source": [
    "Un problema común con matplolib es la superposición de gráficos. Podemos utilizar el método **fig.tight_layout ()** o **plt.tight_layout ()** para ajustar automáticamente las posiciones de los ejes en el canvas de la figura para que no haya contenido superpuesto."
   ]
  },
  {
   "cell_type": "markdown",
   "metadata": {
    "colab_type": "text",
    "id": "87XOi38guMuO"
   },
   "source": [
    "Para este caso, en el que se definen mas de una fila y columna, el arreglo de ejes retornados será una matriz de n x n y se puede acceder cada gráfico ya sea iterando sobre este arreglo, o mediante el uso de indices para referenciar cada elemento de una matriz bidimencional: "
   ]
  },
  {
   "cell_type": "code",
   "execution_count": null,
   "metadata": {
    "colab": {
     "base_uri": "https://localhost:8080/",
     "height": 170
    },
    "colab_type": "code",
    "executionInfo": {
     "elapsed": 680,
     "status": "ok",
     "timestamp": 1583589121730,
     "user": {
      "displayName": "Beimar Rodriguez",
      "photoUrl": "https://lh3.googleusercontent.com/a-/AOh14GjuX40-0URd_w6GeGbIxaGemRJIwK0vNXOoFOBeCg=s64",
      "userId": "17662544329171634219"
     },
     "user_tz": 300
    },
    "id": "1gPQh4C84C8l",
    "outputId": "de3c7699-e6d3-4a3a-b492-07e58a0e098a"
   },
   "outputs": [],
   "source": [
    "axes"
   ]
  },
  {
   "cell_type": "code",
   "execution_count": null,
   "metadata": {
    "colab": {
     "base_uri": "https://localhost:8080/",
     "height": 297
    },
    "colab_type": "code",
    "executionInfo": {
     "elapsed": 1744,
     "status": "ok",
     "timestamp": 1583589134611,
     "user": {
      "displayName": "Beimar Rodriguez",
      "photoUrl": "https://lh3.googleusercontent.com/a-/AOh14GjuX40-0URd_w6GeGbIxaGemRJIwK0vNXOoFOBeCg=s64",
      "userId": "17662544329171634219"
     },
     "user_tz": 300
    },
    "id": "83K4TOKSuMuO",
    "outputId": "8f2629b3-5af1-4867-a87e-98f372cb8bfd"
   },
   "outputs": [],
   "source": [
    "for fila in axes:                   #Acceso mediante la iteración de sus elementos\n",
    "  for eje in fila:\n",
    "    eje.plot(x, y, 'b')\n",
    "    eje.set_xlabel('x')\n",
    "    eje.set_ylabel('y')\n",
    "    eje.set_title('title')\n",
    "\n",
    "axes[1][1].clear()\n",
    "axes[1][1].plot(y, x, 'r--')\n",
    "\n",
    "axes[1][2].clear()\n",
    "axes[1][2].plot(y, x, 'r')          #Acceso mediante uso de sus indices\n",
    "\n",
    "axes[1][-3].clear()\n",
    "axes[1][-3].plot(y, x, 'g--')          #Acceso mediante uso de sus indices\n",
    "\n",
    "\n",
    "# Para mostrar la figura    \n",
    "fig.tight_layout()\n",
    "fig"
   ]
  },
  {
   "cell_type": "markdown",
   "metadata": {
    "colab_type": "text",
    "id": "sEzKuPqauMuU"
   },
   "source": [
    "____\n",
    "## Tamaño de figuras y DPI (Dots per Inch)"
   ]
  },
  {
   "cell_type": "markdown",
   "metadata": {
    "colab_type": "text",
    "id": "n9Q2JYsbuMuV"
   },
   "source": [
    "Matplotlib permite especificar el DPI y el tamaño de la figura cuando se crea el objeto Figure. Para esto, se usan los argumentos de las palabras clave `figsize` y `dpi`.\n",
    "* `figsize` es una tupla del ancho y alto de la figura en pulgadas\n",
    "* `dpi` es la cantidad de puntos por pulgada (pixel por pulgada).\n",
    "\n",
    "Por ejemplo:"
   ]
  },
  {
   "cell_type": "code",
   "execution_count": null,
   "metadata": {
    "colab": {
     "base_uri": "https://localhost:8080/",
     "height": 281
    },
    "colab_type": "code",
    "executionInfo": {
     "elapsed": 693,
     "status": "ok",
     "timestamp": 1583589145512,
     "user": {
      "displayName": "Beimar Rodriguez",
      "photoUrl": "https://lh3.googleusercontent.com/a-/AOh14GjuX40-0URd_w6GeGbIxaGemRJIwK0vNXOoFOBeCg=s64",
      "userId": "17662544329171634219"
     },
     "user_tz": 300
    },
    "id": "WM-ySzdNuMuW",
    "outputId": "68b543b2-23b5-4195-8fc9-a788e2f8679a"
   },
   "outputs": [],
   "source": [
    "fig = plt.figure(figsize=(12,3))  \n",
    "\n",
    "ax = fig.add_axes([0,0,1,1])\n",
    "ax.plot(x,y)"
   ]
  },
  {
   "cell_type": "markdown",
   "metadata": {
    "colab_type": "text",
    "id": "Agsn4pL9uMuX"
   },
   "source": [
    "Estos mismos argumentos también se pueden pasar a los manejadores de layout, como el método `subplots`:"
   ]
  },
  {
   "cell_type": "code",
   "execution_count": null,
   "metadata": {
    "colab": {
     "base_uri": "https://localhost:8080/",
     "height": 790
    },
    "colab_type": "code",
    "executionInfo": {
     "elapsed": 1145,
     "status": "ok",
     "timestamp": 1583589166180,
     "user": {
      "displayName": "Beimar Rodriguez",
      "photoUrl": "https://lh3.googleusercontent.com/a-/AOh14GjuX40-0URd_w6GeGbIxaGemRJIwK0vNXOoFOBeCg=s64",
      "userId": "17662544329171634219"
     },
     "user_tz": 300
    },
    "id": "aH805VFfuMuZ",
    "outputId": "4c865b25-6844-405a-9613-dcb54ed2d4f2"
   },
   "outputs": [],
   "source": [
    "fig, axes = plt.subplots(dpi=200)\n",
    "\n",
    "axes.plot(x, y, 'r--')\n",
    "axes.set_xlabel('x')\n",
    "axes.set_ylabel('y')\n",
    "axes.set_title('Título');"
   ]
  },
  {
   "cell_type": "code",
   "execution_count": null,
   "metadata": {
    "colab": {
     "base_uri": "https://localhost:8080/",
     "height": 225
    },
    "colab_type": "code",
    "executionInfo": {
     "elapsed": 1591,
     "status": "ok",
     "timestamp": 1583589178090,
     "user": {
      "displayName": "Beimar Rodriguez",
      "photoUrl": "https://lh3.googleusercontent.com/a-/AOh14GjuX40-0URd_w6GeGbIxaGemRJIwK0vNXOoFOBeCg=s64",
      "userId": "17662544329171634219"
     },
     "user_tz": 300
    },
    "id": "-lbOLBG3uMub",
    "outputId": "0339f5c6-2ccf-4418-c02d-3d7a7d57a4a6"
   },
   "outputs": [],
   "source": [
    "fig, axes = plt.subplots(nrows=2, ncols=1, figsize=(12,3))\n",
    "\n",
    "axes[0].plot(x, y, 'r')\n",
    "axes[1].plot(y, x, 'g')\n",
    "\n",
    "plt.tight_layout()"
   ]
  },
  {
   "cell_type": "markdown",
   "metadata": {
    "colab_type": "text",
    "id": "TyQJ0rs1uMud"
   },
   "source": [
    "____\n",
    "### Guardar las Figuras como archivos\n",
    "\n",
    "Matplotlib puede generar archivos de alta calidad en varios formatos, incluidos: PNG, JPG, EPS, SVG, PGF y PDF.\n",
    "\n",
    "Para guardar una figura en un archivo, podemos usar el método `savefig` de la clase `Figure`, el cual recibe como parametro indispensable, el nombre del archivo de salida con la extensión que define el formato del archivo generado:\n"
   ]
  },
  {
   "cell_type": "code",
   "execution_count": null,
   "metadata": {
    "colab": {
     "base_uri": "https://localhost:8080/",
     "height": 119
    },
    "colab_type": "code",
    "executionInfo": {
     "elapsed": 2449,
     "status": "ok",
     "timestamp": 1583589290805,
     "user": {
      "displayName": "Beimar Rodriguez",
      "photoUrl": "https://lh3.googleusercontent.com/a-/AOh14GjuX40-0URd_w6GeGbIxaGemRJIwK0vNXOoFOBeCg=s64",
      "userId": "17662544329171634219"
     },
     "user_tz": 300
    },
    "id": "QO_cN_YjuMud",
    "outputId": "54508b24-1959-434d-fa71-9e558f773523"
   },
   "outputs": [],
   "source": [
    "fig.savefig(\"figura.png\")"
   ]
  },
  {
   "cell_type": "markdown",
   "metadata": {
    "colab_type": "text",
    "id": "3nvEMmReuMug"
   },
   "source": [
    "También se puede especificar el DPI en el momento de la generación del archivo::"
   ]
  },
  {
   "cell_type": "code",
   "execution_count": null,
   "metadata": {
    "colab": {},
    "colab_type": "code",
    "id": "i4bBPcl3uMuj"
   },
   "outputs": [],
   "source": [
    "fig.savefig(\"figura_dpi200.png\", dpi=200)"
   ]
  },
  {
   "cell_type": "code",
   "execution_count": null,
   "metadata": {
    "colab": {
     "base_uri": "https://localhost:8080/",
     "height": 153
    },
    "colab_type": "code",
    "executionInfo": {
     "elapsed": 2341,
     "status": "ok",
     "timestamp": 1583589380928,
     "user": {
      "displayName": "Beimar Rodriguez",
      "photoUrl": "https://lh3.googleusercontent.com/a-/AOh14GjuX40-0URd_w6GeGbIxaGemRJIwK0vNXOoFOBeCg=s64",
      "userId": "17662544329171634219"
     },
     "user_tz": 300
    },
    "id": "hldfcuoHuMum",
    "outputId": "09ea3c8a-b698-44bd-9858-436d5bad8922"
   },
   "outputs": [],
   "source": [
    "# Generando un PDF\n",
    "fig.savefig(\"figura.pdf\",)"
   ]
  },
  {
   "cell_type": "markdown",
   "metadata": {
    "colab_type": "text",
    "id": "A0CVB5qnuMun"
   },
   "source": [
    "____\n",
    "\n",
    "## Leyendas, etiquetas, títulos"
   ]
  },
  {
   "cell_type": "markdown",
   "metadata": {
    "colab_type": "text",
    "id": "uzDYdajjuMuo"
   },
   "source": [
    "Veamos cómo agregar títulos, etiquetas de ejes y leyendas a la figura."
   ]
  },
  {
   "cell_type": "markdown",
   "metadata": {
    "colab_type": "text",
    "id": "XvjsyTqFuMup"
   },
   "source": [
    "### Títulos de Figuras\n",
    "\n",
    "Use el método `set_title` en el objeto `axes`:"
   ]
  },
  {
   "cell_type": "code",
   "execution_count": null,
   "metadata": {
    "colab": {},
    "colab_type": "code",
    "id": "unYFstxIuMuq"
   },
   "outputs": [],
   "source": [
    "ax.set_title(\"title\");"
   ]
  },
  {
   "cell_type": "markdown",
   "metadata": {
    "colab_type": "text",
    "id": "BbSK80WluMuu"
   },
   "source": [
    "### Etiquetas de ejes\n",
    "\n",
    "Los métodos `set_xlabel` y `set_ylabel` permiten asignar nombres a los ejes:"
   ]
  },
  {
   "cell_type": "code",
   "execution_count": null,
   "metadata": {
    "colab": {},
    "colab_type": "code",
    "id": "zxhxh-ztuMuu"
   },
   "outputs": [],
   "source": [
    "ax.set_xlabel(\"x\")\n",
    "ax.set_ylabel(\"y\");"
   ]
  },
  {
   "cell_type": "markdown",
   "metadata": {
    "colab_type": "text",
    "id": "13_0XrS5uMux"
   },
   "source": [
    "### Leyenda"
   ]
  },
  {
   "cell_type": "markdown",
   "metadata": {
    "colab_type": "text",
    "id": "_O6lgmI8uMux"
   },
   "source": [
    "Se puede usar el parámetro **label=\"texto leyenda\"** cuando se añaden plots u otros objetos a la Figura. Después, se llama al método **legend** para incluir la leyenda en el gráfico: "
   ]
  },
  {
   "cell_type": "code",
   "execution_count": null,
   "metadata": {
    "colab": {
     "base_uri": "https://localhost:8080/",
     "height": 353
    },
    "colab_type": "code",
    "executionInfo": {
     "elapsed": 713,
     "status": "ok",
     "timestamp": 1583589848804,
     "user": {
      "displayName": "Beimar Rodriguez",
      "photoUrl": "https://lh3.googleusercontent.com/a-/AOh14GjuX40-0URd_w6GeGbIxaGemRJIwK0vNXOoFOBeCg=s64",
      "userId": "17662544329171634219"
     },
     "user_tz": 300
    },
    "id": "LZS5mdEeuMuy",
    "outputId": "9cdebe31-f8ad-40d3-c514-08f2a9cd95a4"
   },
   "outputs": [],
   "source": [
    "fig = plt.figure()\n",
    "\n",
    "ax = fig.add_axes([1,0,1,1])\n",
    "\n",
    "ax.plot(x, x**4, label=\"$x^4$\")\n",
    "ax.plot(x, x**3, label=\"$x^3$\")\n",
    "ax.legend()"
   ]
  },
  {
   "cell_type": "markdown",
   "metadata": {
    "colab_type": "text",
    "id": "b8aBr0eouMu0"
   },
   "source": [
    "El método **legend** tiene un parámetro opcional **loc** que se usa para especificar la posición de la leyenda en la Figura. Soporta códigos númericos o la cadena directamente. Ver la documentación para conocer muchas más opciones: http://matplotlib.org/users/legend_guide.html#legend-location."
   ]
  },
  {
   "cell_type": "code",
   "execution_count": null,
   "metadata": {
    "colab": {
     "base_uri": "https://localhost:8080/",
     "height": 336
    },
    "colab_type": "code",
    "executionInfo": {
     "elapsed": 842,
     "status": "ok",
     "timestamp": 1583589916173,
     "user": {
      "displayName": "Beimar Rodriguez",
      "photoUrl": "https://lh3.googleusercontent.com/a-/AOh14GjuX40-0URd_w6GeGbIxaGemRJIwK0vNXOoFOBeCg=s64",
      "userId": "17662544329171634219"
     },
     "user_tz": 300
    },
    "id": "RI4A_LaUuMu1",
    "outputId": "6109e9d5-8f70-42cf-a917-f8aff762a4be"
   },
   "outputs": [],
   "source": [
    "#ax.legend(loc=1) # upper right \n",
    "#ax.legend(loc=2) # upper left \n",
    "#ax.legend(loc=3) # lower left \n",
    "#ax.legend(loc=4) # lower right\n",
    "\n",
    "# Más común\n",
    "#ax.legend(loc=0) # matplotlib decide la mejor posición\n",
    "\n",
    "# Personalizado\n",
    "ax.legend(loc=(1.1,0.1))\n",
    "\n",
    "fig"
   ]
  },
  {
   "cell_type": "markdown",
   "metadata": {
    "colab_type": "text",
    "id": "N-O5XkVyuMu5"
   },
   "source": [
    "## Colores, ancho de líneas y tipo de líneas\n",
    "\n",
    "Matplotlib ofrece *muchas* opciones para personalizar los colores, ancho de líneas y tipo de líneas. \n",
    "\n",
    "Matplotlib soporta una sintaxis básica similar a MatLab que sugerimos evitar en aras de la claridad:"
   ]
  },
  {
   "cell_type": "markdown",
   "metadata": {
    "colab_type": "text",
    "id": "G_glTxsQuMu7"
   },
   "source": [
    "### Sintaxis similar a MatLab"
   ]
  },
  {
   "cell_type": "markdown",
   "metadata": {
    "colab_type": "text",
    "id": "PQmOv7V9uMu8"
   },
   "source": [
    "Con matplotlib, podemos definir los colores de las líneas y otros elementos gráficos de varias maneras. En primer lugar, podemos usar la sintaxis similar a MATLAB donde `'b'` significa azul, `'g'` significa verde, etc. También se pueden seleccionar estilos de línea: donde, por ejemplo, 'b.-' significa una línea azul con puntos:\n"
   ]
  },
  {
   "cell_type": "code",
   "execution_count": null,
   "metadata": {
    "colab": {
     "base_uri": "https://localhost:8080/",
     "height": 282
    },
    "colab_type": "code",
    "executionInfo": {
     "elapsed": 679,
     "status": "ok",
     "timestamp": 1583589926929,
     "user": {
      "displayName": "Beimar Rodriguez",
      "photoUrl": "https://lh3.googleusercontent.com/a-/AOh14GjuX40-0URd_w6GeGbIxaGemRJIwK0vNXOoFOBeCg=s64",
      "userId": "17662544329171634219"
     },
     "user_tz": 300
    },
    "id": "2CRj5ivHuMu-",
    "outputId": "eac2e3fb-4757-4e51-dec9-594d2ff08a29"
   },
   "outputs": [],
   "source": [
    "# Estilo MATLAB\n",
    "fig, ax = plt.subplots()\n",
    "ax.plot(x, x**2, 'b.--') # línea azul (b) con puntos\n",
    "ax.plot(x, x**3, 'g--') # línea punteada verde (g) "
   ]
  },
  {
   "cell_type": "markdown",
   "metadata": {
    "colab_type": "text",
    "id": "gxYmd9hauMvD"
   },
   "source": [
    "### Colores usando el parámetro `color=`"
   ]
  },
  {
   "cell_type": "markdown",
   "metadata": {
    "colab_type": "text",
    "id": "RWkOZ7EFuMvF"
   },
   "source": [
    "Podemos definir colores por sus nombres o códigos hexadecimales RGB y, opcionalmente, proporcionar un valor alfa utilizando los argumentos de palabras clave `color` y `alfa`. Alpha indica opacidad.\n"
   ]
  },
  {
   "cell_type": "code",
   "execution_count": null,
   "metadata": {
    "colab": {
     "base_uri": "https://localhost:8080/",
     "height": 282
    },
    "colab_type": "code",
    "executionInfo": {
     "elapsed": 723,
     "status": "ok",
     "timestamp": 1583589931445,
     "user": {
      "displayName": "Beimar Rodriguez",
      "photoUrl": "https://lh3.googleusercontent.com/a-/AOh14GjuX40-0URd_w6GeGbIxaGemRJIwK0vNXOoFOBeCg=s64",
      "userId": "17662544329171634219"
     },
     "user_tz": 300
    },
    "id": "_OW0Vc4uuMvG",
    "outputId": "7349f2e5-5f63-44e2-c8c2-1c8bc6228487"
   },
   "outputs": [],
   "source": [
    "fig, ax = plt.subplots()\n",
    "\n",
    "ax.plot(x, x+1, color=\"blue\", alpha=1) # medio-transparente (alpha=0.5)\n",
    "ax.plot(x, x+2, color=(0.1,0.2,0.5,0.5))        # Código hexadecimal RGB (RGB Hex Code)\n",
    "ax.plot(x, x+3, color=\"#FF8C00\")        # Código hexadecimal RGB"
   ]
  },
  {
   "cell_type": "markdown",
   "metadata": {
    "colab_type": "text",
    "id": "2TvhqeLWuMvJ"
   },
   "source": [
    "### Estilos de líneas y marcadores"
   ]
  },
  {
   "cell_type": "markdown",
   "metadata": {
    "colab_type": "text",
    "id": "cb09XPkduMvK"
   },
   "source": [
    "Para cambiar el ancho de línea se utiliza el parámetro `linewidth` (o simplemente `lw`). El estilo de línea se puede selecionar mediante el argumento `linestyle` (o `ls`):"
   ]
  },
  {
   "cell_type": "code",
   "execution_count": null,
   "metadata": {
    "colab": {
     "base_uri": "https://localhost:8080/",
     "height": 374
    },
    "colab_type": "code",
    "executionInfo": {
     "elapsed": 1209,
     "status": "ok",
     "timestamp": 1583589951028,
     "user": {
      "displayName": "Beimar Rodriguez",
      "photoUrl": "https://lh3.googleusercontent.com/a-/AOh14GjuX40-0URd_w6GeGbIxaGemRJIwK0vNXOoFOBeCg=s64",
      "userId": "17662544329171634219"
     },
     "user_tz": 300
    },
    "id": "aFfIn-PCuMvK",
    "outputId": "da1f113d-2928-48b7-b904-efb44ca84599"
   },
   "outputs": [],
   "source": [
    "fig, ax = plt.subplots(figsize=(12,6))\n",
    "\n",
    "# linewidth\n",
    "ax.plot(x, x+1, color=\"red\", linewidth=0.25)\n",
    "ax.plot(x, x+2, color=\"red\", linewidth=0.50)\n",
    "ax.plot(x, x+3, color=\"red\", linewidth=1.00)\n",
    "ax.plot(x, x+4, color=\"red\", linewidth=2.00)\n",
    "\n",
    "# linestyle: ‘-‘, ‘-.’, ‘:’, ‘steps’\n",
    "ax.plot(x, x+5, color=\"green\", lw=3, linestyle='-')\n",
    "ax.plot(x, x+6, color=\"green\", lw=3, ls='-.')\n",
    "ax.plot(x, x+7, color=\"green\", lw=3, ls=':')\n",
    "\n",
    "# línea personalizada\n",
    "line, = ax.plot(x, x+8, color=\"black\", lw=1.50)\n",
    "line.set_dashes([5, 2, 15, 10]) # formato: longitud de línea, longitud de espacio, ...\n",
    "\n",
    "# marcadores: marker = '+', 'o', '*', 's', ',', '.', '1', '2', '3', '4', ...\n",
    "ax.plot(x, x+ 9, color=\"blue\", lw=0.5, ls='-', marker='+')\n",
    "ax.plot(x, x+10, color=\"blue\", lw=2, ls='--', marker='o')\n",
    "ax.plot(x, x+11, color=\"blue\", lw=2, ls='-', marker='s')\n",
    "ax.plot(x, x+12, color=\"blue\", lw=2, ls='--', marker='1')\n",
    "\n",
    "# tamaño y color del marcador\n",
    "ax.plot(x, x+13, color=\"purple\", lw=1, ls='-', marker='o', markersize=2)\n",
    "ax.plot(x, x+14, color=\"purple\", lw=1, ls='-', marker='o', markersize=4)\n",
    "ax.plot(x, x+15, color=\"purple\", lw=1, ls='-', marker='o', markersize=8, markerfacecolor=\"red\")\n",
    "ax.plot(x, x+16, color=\"purple\", lw=1, ls='-', marker='s', markersize=8, \n",
    "        markerfacecolor=\"yellow\", markeredgewidth=3, markeredgecolor=\"green\");"
   ]
  },
  {
   "cell_type": "markdown",
   "metadata": {
    "colab_type": "text",
    "id": "9INREpAQuMvO"
   },
   "source": [
    "## Ejes"
   ]
  },
  {
   "cell_type": "markdown",
   "metadata": {
    "colab_type": "text",
    "id": "h-YfdR-4uMvP"
   },
   "source": [
    "### Rango \n",
    "\n",
    "Podemos configurar los rangos de los ejes usando los métodos `set_ylim` y `set_xlim` del objeto del eje, o llamando al método `axis ('tight')` para obtener automáticamente rangos de ejes \"ajustados\":"
   ]
  },
  {
   "cell_type": "code",
   "execution_count": null,
   "metadata": {
    "colab": {
     "base_uri": "https://localhost:8080/",
     "height": 281
    },
    "colab_type": "code",
    "executionInfo": {
     "elapsed": 1408,
     "status": "ok",
     "timestamp": 1583590039675,
     "user": {
      "displayName": "Beimar Rodriguez",
      "photoUrl": "https://lh3.googleusercontent.com/a-/AOh14GjuX40-0URd_w6GeGbIxaGemRJIwK0vNXOoFOBeCg=s64",
      "userId": "17662544329171634219"
     },
     "user_tz": 300
    },
    "id": "nhihX_sSuMvQ",
    "outputId": "36819145-7f9e-46e8-a01c-c5dd3e48628b"
   },
   "outputs": [],
   "source": [
    "fig, axes = plt.subplots(1, 3, figsize=(12, 4))\n",
    "\n",
    "axes[0].plot(x, x**2) # Se puede graficar sobre la misma figura llamando varias veces a plot()\n",
    "axes[0].plot(x, x**3)\n",
    "axes[0].set_title(\"Rango de ejes por defecto\")\n",
    "\n",
    "axes[1].plot(x, x**2, x, x**3) # Se puede hacer esto en una sola línea\n",
    "#axes[1].axis('tight')\n",
    "axes[1].autoscale(enable=True, axis='both', tight=True) #axis : ['both' | 'x' | 'y']; default is 'both'\n",
    "axes[1].set_title(\"Rango ajustado\")\n",
    "\n",
    "axes[2].plot(x, x**2, x, x**3)\n",
    "axes[2].set_ylim([0, 10])\n",
    "axes[2].set_xlim([1, 2])\n",
    "axes[2].set_title(\"Rango personalizado\");"
   ]
  },
  {
   "cell_type": "markdown",
   "metadata": {
    "colab_type": "text",
    "id": "nYqdqm_nuMvS"
   },
   "source": [
    "## Tipos de gráficos especiales\n",
    "\n",
    "Al igual que con Pandas, en Matplotlib se pueden crear varios tipos de gráficos: barplots, histogramas, scatter plots, y muchos más. La mayoría de estos gráficos los crearemos usando Seaborn, una librería para gráficos estadísticos para Python. Pero aquí se presentan algunos ejemplos con matplotlib:"
   ]
  },
  {
   "cell_type": "markdown",
   "metadata": {
    "colab_type": "text",
    "id": "kObGAbxKXin-"
   },
   "source": [
    "La forma de uso de estas funciones, es similar al de la función plot, se envían como argumentos básicos los datos a graficar contenidos en dos arreglos, y es posible la personalización de algunas propiedades del gráfico de acuerdo con el tipo de gráfico que se este usando mediante el envío de parametros opcionales.\n",
    "\n"
   ]
  },
  {
   "cell_type": "markdown",
   "metadata": {
    "colab_type": "text",
    "id": "RyFAZXT_ZT0J"
   },
   "source": [
    "### scatter()\n",
    "\n",
    "En el ejemplo siguiente se usa la función scatter, con esta se grafican los datos de una manera despersa como se ve en el resultado, adicionalmente permite uso de algunos modificadores como el caso de ''marker' para definir la representación de los puntos en la gráfica, "
   ]
  },
  {
   "cell_type": "code",
   "execution_count": null,
   "metadata": {
    "colab": {
     "base_uri": "https://localhost:8080/",
     "height": 282
    },
    "colab_type": "code",
    "executionInfo": {
     "elapsed": 637,
     "status": "ok",
     "timestamp": 1583590053656,
     "user": {
      "displayName": "Beimar Rodriguez",
      "photoUrl": "https://lh3.googleusercontent.com/a-/AOh14GjuX40-0URd_w6GeGbIxaGemRJIwK0vNXOoFOBeCg=s64",
      "userId": "17662544329171634219"
     },
     "user_tz": 300
    },
    "id": "Vf5_prQOuMvT",
    "outputId": "d35a3e38-f979-4985-cb00-1c430fe6662a"
   },
   "outputs": [],
   "source": [
    "plt.scatter(x,y,marker='+')"
   ]
  },
  {
   "cell_type": "markdown",
   "metadata": {
    "colab_type": "text",
    "id": "X-gjSC8MZpSi"
   },
   "source": [
    "### hist()\n",
    "\n",
    "Esta función permite la diagramación de los datos con estilo tipo histograma, en donde los datos son representados por barras verticales a lo largo del eje x, en el ejemplo siguiente se ilustra su uso para lo cual se generan previamente los arrays con los datos a diagramar.\n",
    "\n",
    "El parametro bins define la cantidad de barras para el diagrama, este puede ser un valor númerico, un rango, o una cadena. (para el caso de una cadena, esta debe correponder a uno de los valores preestablecidos de acuerdo, los cuales puede consultar en la documentación en donde también se detallan los parámetros que acepta esta función https://matplotlib.org/api/_as_gen/matplotlib.pyplot.hist.html )\n"
   ]
  },
  {
   "cell_type": "code",
   "execution_count": null,
   "metadata": {
    "colab": {
     "base_uri": "https://localhost:8080/",
     "height": 316
    },
    "colab_type": "code",
    "executionInfo": {
     "elapsed": 664,
     "status": "ok",
     "timestamp": 1583590063298,
     "user": {
      "displayName": "Beimar Rodriguez",
      "photoUrl": "https://lh3.googleusercontent.com/a-/AOh14GjuX40-0URd_w6GeGbIxaGemRJIwK0vNXOoFOBeCg=s64",
      "userId": "17662544329171634219"
     },
     "user_tz": 300
    },
    "id": "Kbfmfbk-uMvW",
    "outputId": "55ebb016-340e-46e9-afc7-88cbf5c3d751"
   },
   "outputs": [],
   "source": [
    "from random import sample\n",
    "data = sample(range(1, 100), 50)  #De esta forma se genera un arreglo de 50 elementos con valores aleatorios comprendidos entre 1 y 100\n",
    "plt.hist(data, bins=5, width=5)   #bins define el número de barras (10 por defecto)"
   ]
  },
  {
   "cell_type": "markdown",
   "metadata": {
    "colab_type": "text",
    "id": "5VvwVVynqT6v"
   },
   "source": [
    "### boxplot()\n",
    "\n",
    "Mediante esta función se gráfican los datos en un diagrama de cajas, para el ejemplo siguiente se grafican los diagramas de caja de tres arreglos generados aleatoriamente con desviación estandar de 1, 2 y 3 respectivamente:"
   ]
  },
  {
   "cell_type": "code",
   "execution_count": null,
   "metadata": {
    "colab": {
     "base_uri": "https://localhost:8080/",
     "height": 269
    },
    "colab_type": "code",
    "executionInfo": {
     "elapsed": 12241,
     "status": "ok",
     "timestamp": 1566016409573,
     "user": {
      "displayName": "Jorge Eliecer Camargo Mendoza",
      "photoUrl": "https://lh4.googleusercontent.com/-J1fIn1CGWok/AAAAAAAAAAI/AAAAAAAACYs/SSMWWolyU4Y/s64/photo.jpg",
      "userId": "02835507447501590248"
     },
     "user_tz": 300
    },
    "id": "987p3x9huMvZ",
    "outputId": "12abca20-d3c1-4a74-816e-5d2299aaa8c1"
   },
   "outputs": [],
   "source": [
    "data = [np.random.normal(0, std, 100) for std in range(1, 4)] #contendrá 3 arreglos de 100 elementos cada uno, con valores aleatorios de distribución normal\n",
    "                                                              #con desviación estandar variando entre 1 y 3 \n",
    "# boxplot rectangular\n",
    "plt.boxplot(data,vert=True,patch_artist=True)\n",
    "plt.show()"
   ]
  },
  {
   "cell_type": "markdown",
   "metadata": {
    "colab_type": "text",
    "id": "ND_p7YQQuMvc"
   },
   "source": [
    "## Lecturas adicionales\n",
    "\n",
    "Los siguientes enlaces corresponden a sitios en donde encontrará información muy útil para profundizar en el conocimiento de las funcionalides de la libreria Matplotlib:"
   ]
  },
  {
   "cell_type": "markdown",
   "metadata": {
    "colab_type": "text",
    "id": "14S91z4YuMvd"
   },
   "source": [
    "* http://www.matplotlib.org \n",
    "* http://matplotlib.org/gallery.html - Ejemplos - muy recomendado.\n",
    "* http://www.labri.fr/perso/nrougier/teaching/matplotlib/ - Excelente tutorial.\n",
    "* http://scipy-lectures.github.io/matplotlib/matplotlib.html \n"
   ]
  },
  {
   "cell_type": "markdown",
   "metadata": {
    "colab_type": "text",
    "id": "V-rk95p9pSr7"
   },
   "source": [
    "## Matplotlib avanzado\n",
    "\n",
    "En esta sección se explican algunas características más avanzadas de Matplotlib."
   ]
  },
  {
   "cell_type": "code",
   "execution_count": null,
   "metadata": {
    "colab": {},
    "colab_type": "code",
    "id": "pjvY0mCZpSr8"
   },
   "outputs": [],
   "source": [
    "import matplotlib.pyplot as plt\n",
    "%matplotlib inline\n",
    "\n",
    "# Datos\n",
    "import numpy as np\n",
    "x = np.linspace(0, 5, 11) # 11 números entre 0 y 5, separados de forma uniforme\n",
    "y = x ** 2"
   ]
  },
  {
   "cell_type": "markdown",
   "metadata": {
    "colab_type": "text",
    "id": "mz2NRC5DpSr-"
   },
   "source": [
    "### Escala logarítmica"
   ]
  },
  {
   "cell_type": "markdown",
   "metadata": {
    "colab_type": "text",
    "id": "QuVOjQSdpSr_"
   },
   "source": [
    "Es posible establecer una escala logarítmica para uno o ambos ejes. Esta funcionalidad es, de hecho, solo una aplicación de un sistema de transformación más general en Matplotlib. Cada una de las escalas de los ejes se establece por separado utilizando los métodos `set_xscale` y `set_yscale` que aceptan un parámetro (con el valor \"log\" en este caso):\n"
   ]
  },
  {
   "cell_type": "code",
   "execution_count": null,
   "metadata": {
    "colab": {
     "base_uri": "https://localhost:8080/",
     "height": 281
    },
    "colab_type": "code",
    "executionInfo": {
     "elapsed": 998,
     "status": "ok",
     "timestamp": 1566655485735,
     "user": {
      "displayName": "Jorge Eliecer Camargo Mendoza",
      "photoUrl": "https://lh3.googleusercontent.com/a-/AAuE7mABqwDZWVpHOYngU9ZIe8V9pjUGlU8t-imO83-blA=s64",
      "userId": "02835507447501590248"
     },
     "user_tz": 300
    },
    "id": "nTKBQDtqpSsA",
    "outputId": "ca64cbf5-9422-4e49-b578-b1839f7d791f"
   },
   "outputs": [],
   "source": [
    "fig, axes = plt.subplots(1, 2, figsize=(10,4))\n",
    "      \n",
    "axes[0].plot(x, x**2, x, np.exp(x))\n",
    "axes[0].set_title(\"Escala Normal\")\n",
    "\n",
    "axes[1].plot(x, x**2, x, np.exp(x))\n",
    "axes[1].set_yscale(\"log\")\n",
    "axes[1].set_title(\"Escala logarítmica (y)\");"
   ]
  },
  {
   "cell_type": "markdown",
   "metadata": {
    "colab_type": "text",
    "id": "OjOzsqilpSsD"
   },
   "source": [
    "### Colocación de marcas y etiquetas personalizadas\n",
    "\n",
    "Podemos determinar explícitamente dónde queremos las marcas (ticks) de los ejes con `set_xticks` y `set_yticks`, que toman una lista de valores de dónde se colocarán los ticks en el eje. También podemos usar los métodos `set_xticklabels` y` set_yticklabels` para proporcionar una lista de etiquetas de texto personalizadas para cada ubicación de las marcas:"
   ]
  },
  {
   "cell_type": "code",
   "execution_count": null,
   "metadata": {
    "colab": {
     "base_uri": "https://localhost:8080/",
     "height": 284
    },
    "colab_type": "code",
    "executionInfo": {
     "elapsed": 720,
     "status": "ok",
     "timestamp": 1583590095651,
     "user": {
      "displayName": "Beimar Rodriguez",
      "photoUrl": "https://lh3.googleusercontent.com/a-/AOh14GjuX40-0URd_w6GeGbIxaGemRJIwK0vNXOoFOBeCg=s64",
      "userId": "17662544329171634219"
     },
     "user_tz": 300
    },
    "id": "Z2dtUXWhpSsE",
    "outputId": "efe00ed9-658f-4f98-f80b-2373831a58d1"
   },
   "outputs": [],
   "source": [
    "fig, ax = plt.subplots(figsize=(10, 4))\n",
    "\n",
    "ax.plot(x, x**2, x, x**3, lw=2)\n",
    "\n",
    "ax.set_xticks([1, 2, 3, 4, 5])\n",
    "ax.set_xticklabels([r'$\\alpha$', r'$\\beta$', r'$\\gamma$', r'$\\delta$', r'$\\epsilon$'], fontsize=18) # usa formato LaTeX\n",
    "\n",
    "yticks = [0, 50, 100, 150]\n",
    "ax.set_yticks(yticks)\n",
    "ax.set_yticklabels([\"$%.1f$\" % y for y in yticks], fontsize=18); # usa formato LaTeX"
   ]
  },
  {
   "cell_type": "markdown",
   "metadata": {
    "colab_type": "text",
    "id": "05tJaMVbpSsG"
   },
   "source": [
    "Hay una serie de métodos más avanzados para controlar la colocación de marcas mayores y menores en las figuras de matplotlib, como la colocación automática de acuerdo con diferentes políticas. Ver http://matplotlib.org/api/ticker_api.html para más detalles.\n"
   ]
  },
  {
   "cell_type": "markdown",
   "metadata": {
    "colab_type": "text",
    "id": "Su3ppZhkpSsH"
   },
   "source": [
    "### Notación científica\n",
    "\n",
    "Muchas veces es mejor usar notación científica cuando tenemos números grandes en los ejes."
   ]
  },
  {
   "cell_type": "code",
   "execution_count": null,
   "metadata": {
    "colab": {
     "base_uri": "https://localhost:8080/",
     "height": 281
    },
    "colab_type": "code",
    "executionInfo": {
     "elapsed": 806,
     "status": "ok",
     "timestamp": 1583590568984,
     "user": {
      "displayName": "Beimar Rodriguez",
      "photoUrl": "https://lh3.googleusercontent.com/a-/AOh14GjuX40-0URd_w6GeGbIxaGemRJIwK0vNXOoFOBeCg=s64",
      "userId": "17662544329171634219"
     },
     "user_tz": 300
    },
    "id": "C6pBqmeOpSsI",
    "outputId": "3bc5d373-b3b2-4950-cdcc-b3a8af81ac36"
   },
   "outputs": [],
   "source": [
    "fig, ax = plt.subplots(1, 1)\n",
    "      \n",
    "ax.plot(x, x**2, x, np.exp(x))\n",
    "ax.set_title(\"Notación científica\")\n",
    "\n",
    "ax.set_yticks([0, 50, 100, 150])\n",
    "\n",
    "from matplotlib import ticker\n",
    "formatter = ticker.ScalarFormatter(useMathText=True)\n",
    "formatter.set_scientific(True) \n",
    "formatter.set_powerlimits((-1,1)) \n",
    "ax.yaxis.set_major_formatter(formatter) "
   ]
  },
  {
   "cell_type": "markdown",
   "metadata": {
    "colab_type": "text",
    "id": "00tDXrZ7pSsK"
   },
   "source": [
    "### Espaciado de las etiquetas de los ejes"
   ]
  },
  {
   "cell_type": "code",
   "execution_count": null,
   "metadata": {
    "colab": {
     "base_uri": "https://localhost:8080/",
     "height": 391
    },
    "colab_type": "code",
    "executionInfo": {
     "elapsed": 1035,
     "status": "ok",
     "timestamp": 1583590573469,
     "user": {
      "displayName": "Beimar Rodriguez",
      "photoUrl": "https://lh3.googleusercontent.com/a-/AOh14GjuX40-0URd_w6GeGbIxaGemRJIwK0vNXOoFOBeCg=s64",
      "userId": "17662544329171634219"
     },
     "user_tz": 300
    },
    "id": "gRaBjCZqpSsL",
    "outputId": "85045b22-9916-41d0-a6e4-499e6d4e1323"
   },
   "outputs": [],
   "source": [
    "fig, ax = plt.subplots(1, 1)\n",
    "      \n",
    "ax.plot(x, x**2, x, np.exp(x))\n",
    "ax.set_yticks([0, 50, 100, 150])\n",
    "\n",
    "ax.set_title(\"Espaciado de etiquetas\")\n",
    "\n",
    "# espaciado entre números y etiquetas de los ejes\n",
    "ax.xaxis.labelpad = 100\n",
    "ax.yaxis.labelpad = 30\n",
    "\n",
    "ax.set_xlabel(\"x\")\n",
    "ax.set_ylabel(\"y\");"
   ]
  },
  {
   "cell_type": "markdown",
   "metadata": {
    "colab_type": "text",
    "id": "JxgcgZBZpSsO"
   },
   "source": [
    "### Ajustes a la posición de los ejes"
   ]
  },
  {
   "cell_type": "markdown",
   "metadata": {
    "colab_type": "text",
    "id": "1R4jV3YUpSsP"
   },
   "source": [
    "A veces cuando se guardan las figuras en archivos, las etiquetas de los ejes se recortan. Es necesario ajustar la posición de los ejes ligeramente. Esto se puede lograr con `subplots_adjust`:"
   ]
  },
  {
   "cell_type": "code",
   "execution_count": null,
   "metadata": {
    "colab": {
     "base_uri": "https://localhost:8080/",
     "height": 308
    },
    "colab_type": "code",
    "executionInfo": {
     "elapsed": 812,
     "status": "ok",
     "timestamp": 1583590576830,
     "user": {
      "displayName": "Beimar Rodriguez",
      "photoUrl": "https://lh3.googleusercontent.com/a-/AOh14GjuX40-0URd_w6GeGbIxaGemRJIwK0vNXOoFOBeCg=s64",
      "userId": "17662544329171634219"
     },
     "user_tz": 300
    },
    "id": "WK6GDWejpSsP",
    "outputId": "4e325f24-8efc-4edb-ebdc-967dc3f3ddf5"
   },
   "outputs": [],
   "source": [
    "fig, ax = plt.subplots(1, 1)\n",
    "      \n",
    "ax.plot(x, x**2, x, np.exp(x))\n",
    "ax.set_yticks([0, 50, 100, 150])\n",
    "\n",
    "ax.set_title(\"título\")\n",
    "ax.set_xlabel(\"x\")\n",
    "ax.set_ylabel(\"y\")\n",
    "\n",
    "fig.subplots_adjust(left=0.15, right=.9, bottom=0.1, top=0.9);"
   ]
  },
  {
   "cell_type": "markdown",
   "metadata": {
    "colab_type": "text",
    "id": "e5f4BU1kpSsV"
   },
   "source": [
    "### Grid"
   ]
  },
  {
   "cell_type": "markdown",
   "metadata": {
    "colab_type": "text",
    "id": "LLjiqV_5pSsV"
   },
   "source": [
    "Con el método `grid` en el objeto del eje, podemos activar y desactivar las líneas de la grilla. También podemos personalizar el aspecto de las líneas de cuadrícula utilizando los mismos argumentos de palabra clave como la función `plot`:\n"
   ]
  },
  {
   "cell_type": "code",
   "execution_count": null,
   "metadata": {
    "colab": {
     "base_uri": "https://localhost:8080/",
     "height": 211
    },
    "colab_type": "code",
    "executionInfo": {
     "elapsed": 780,
     "status": "ok",
     "timestamp": 1583590586694,
     "user": {
      "displayName": "Beimar Rodriguez",
      "photoUrl": "https://lh3.googleusercontent.com/a-/AOh14GjuX40-0URd_w6GeGbIxaGemRJIwK0vNXOoFOBeCg=s64",
      "userId": "17662544329171634219"
     },
     "user_tz": 300
    },
    "id": "sN_jpyLapSsW",
    "outputId": "69d1854c-3ffc-4f15-d6f6-bbd034bd771d"
   },
   "outputs": [],
   "source": [
    "fig, axes = plt.subplots(1, 2, figsize=(10,3))\n",
    "\n",
    "# default grid\n",
    "axes[0].plot(x, x**2, x, x**3, lw=2)\n",
    "axes[0].grid(True)\n",
    "axes[0].set_facecolor(\"white\")\n",
    "\n",
    "# grid personalizado\n",
    "axes[1].plot(x, x**2, x, x**3, lw=2)\n",
    "axes[1].grid(color='b', alpha=0.5, linestyle='dashed', linewidth=0.5)"
   ]
  },
  {
   "cell_type": "markdown",
   "metadata": {
    "colab_type": "text",
    "id": "OKHQXB66pSsY"
   },
   "source": [
    "### Estilo de ejes (spines)"
   ]
  },
  {
   "cell_type": "code",
   "execution_count": null,
   "metadata": {
    "colab": {
     "base_uri": "https://localhost:8080/",
     "height": 161
    },
    "colab_type": "code",
    "executionInfo": {
     "elapsed": 1326,
     "status": "ok",
     "timestamp": 1583590590153,
     "user": {
      "displayName": "Beimar Rodriguez",
      "photoUrl": "https://lh3.googleusercontent.com/a-/AOh14GjuX40-0URd_w6GeGbIxaGemRJIwK0vNXOoFOBeCg=s64",
      "userId": "17662544329171634219"
     },
     "user_tz": 300
    },
    "id": "Cg8knmzepSsa",
    "outputId": "b6dff99f-e071-488f-ade2-69283894dc22"
   },
   "outputs": [],
   "source": [
    "fig, ax = plt.subplots(figsize=(6,2))\n",
    "\n",
    "ax.spines['bottom'].set_color('green')\n",
    "ax.spines['top'].set_color('blue')\n",
    "ax.spines['top'].set_linewidth(2)\n",
    "ax.spines['left'].set_color('red')\n",
    "ax.spines['left'].set_linewidth(2)\n",
    "\n",
    "# desactivar eje a la derecha\n",
    "ax.spines['right'].set_color(\"none\")\n",
    "ax.yaxis.tick_left() # solo ticks a la izquierda"
   ]
  },
  {
   "cell_type": "markdown",
   "metadata": {
    "colab_type": "text",
    "id": "akNaKmsipSsc"
   },
   "source": [
    "### Ejes gemelos"
   ]
  },
  {
   "cell_type": "markdown",
   "metadata": {
    "colab_type": "text",
    "id": "RCzNF9-ipSsd"
   },
   "source": [
    "Algunas veces es útil tener dos ejes x o y en una figura; por ejemplo, al trazar dos curvas con diferentes unidades. Matplotlib soporta esto con las funciones `twinx` y `twiny`:\n"
   ]
  },
  {
   "cell_type": "code",
   "execution_count": null,
   "metadata": {
    "colab": {
     "base_uri": "https://localhost:8080/",
     "height": 265
    },
    "colab_type": "code",
    "executionInfo": {
     "elapsed": 717,
     "status": "ok",
     "timestamp": 1583590594464,
     "user": {
      "displayName": "Beimar Rodriguez",
      "photoUrl": "https://lh3.googleusercontent.com/a-/AOh14GjuX40-0URd_w6GeGbIxaGemRJIwK0vNXOoFOBeCg=s64",
      "userId": "17662544329171634219"
     },
     "user_tz": 300
    },
    "id": "NNWA59lCpSsd",
    "outputId": "c6c8940a-5e8c-4a28-f76e-dc6e76b95a1c"
   },
   "outputs": [],
   "source": [
    "fig, ax1 = plt.subplots()\n",
    "\n",
    "ax1.plot(x, x**2, lw=2, color=\"blue\")\n",
    "ax1.set_ylabel(r\"area $(m^2)$\", fontsize=18, color=\"blue\")\n",
    "for label in ax1.get_yticklabels():\n",
    "    label.set_color(\"blue\")\n",
    "    \n",
    "ax2 = ax1.twinx()\n",
    "ax2.plot(x, x**3, lw=2, color=\"red\")\n",
    "ax2.set_ylabel(r\"volume $(m^3)$\", fontsize=18, color=\"red\")\n",
    "for label in ax2.get_yticklabels():\n",
    "    label.set_color(\"red\")"
   ]
  },
  {
   "cell_type": "markdown",
   "metadata": {
    "colab_type": "text",
    "id": "7QmadvcspSsf"
   },
   "source": [
    "### Ejes donde `x` y `y` son cero"
   ]
  },
  {
   "cell_type": "code",
   "execution_count": null,
   "metadata": {
    "colab": {
     "base_uri": "https://localhost:8080/",
     "height": 248
    },
    "colab_type": "code",
    "executionInfo": {
     "elapsed": 721,
     "status": "ok",
     "timestamp": 1583590712012,
     "user": {
      "displayName": "Beimar Rodriguez",
      "photoUrl": "https://lh3.googleusercontent.com/a-/AOh14GjuX40-0URd_w6GeGbIxaGemRJIwK0vNXOoFOBeCg=s64",
      "userId": "17662544329171634219"
     },
     "user_tz": 300
    },
    "id": "F0ZV-7RKpSsg",
    "outputId": "5bbec346-4cf8-4614-a789-54120edfbbd5"
   },
   "outputs": [],
   "source": [
    "fig, ax = plt.subplots()\n",
    "\n",
    "#ax.spines['right'].set_color('none')\n",
    "#ax.spines['top'].set_color('none')\n",
    "\n",
    "ax.xaxis.set_ticks_position('bottom')\n",
    "ax.spines['bottom'].set_position(('data',0)) # configura la posición del eje x en x=0\n",
    "\n",
    "ax.yaxis.set_ticks_position('left')\n",
    "ax.spines['left'].set_position(('data',0))   # configura la posición del eje y en y=0\n",
    "\n",
    "xx = np.linspace(-0.75, 1., 100)\n",
    "ax.plot(xx, xx**3);"
   ]
  },
  {
   "cell_type": "markdown",
   "metadata": {
    "colab_type": "text",
    "id": "kPRwZ3papSsj"
   },
   "source": [
    "### Otros estilos de gráficos 2D"
   ]
  },
  {
   "cell_type": "markdown",
   "metadata": {
    "colab_type": "text",
    "id": "41yN3FfmpSsk"
   },
   "source": [
    "Además del método común 'plot', hay varias funciones para generar diferentes tipos de gráficos. Consulte la galería de matplotlib para obtener una lista completa: http://matplotlib.org/gallery.html. Algunos de los más útiles se muestran a continuación:"
   ]
  },
  {
   "cell_type": "code",
   "execution_count": null,
   "metadata": {
    "colab": {},
    "colab_type": "code",
    "id": "-7NR3qpFpSsl"
   },
   "outputs": [],
   "source": [
    "n = np.array([0,1,2,3,4,5])"
   ]
  },
  {
   "cell_type": "code",
   "execution_count": null,
   "metadata": {
    "colab": {
     "base_uri": "https://localhost:8080/",
     "height": 227
    },
    "colab_type": "code",
    "executionInfo": {
     "elapsed": 1554,
     "status": "ok",
     "timestamp": 1583590732692,
     "user": {
      "displayName": "Beimar Rodriguez",
      "photoUrl": "https://lh3.googleusercontent.com/a-/AOh14GjuX40-0URd_w6GeGbIxaGemRJIwK0vNXOoFOBeCg=s64",
      "userId": "17662544329171634219"
     },
     "user_tz": 300
    },
    "id": "h-81uKidpSsm",
    "outputId": "f79c9a86-ece6-4f4f-e3c5-43ab989f9124"
   },
   "outputs": [],
   "source": [
    "fig, axes = plt.subplots(1, 4, figsize=(12,3))\n",
    "\n",
    "axes[0].scatter(xx, xx + 0.25*np.random.randn(len(xx)))\n",
    "axes[0].set_title(\"scatter\")\n",
    "\n",
    "axes[1].step(n, n**2, lw=2)\n",
    "axes[1].set_title(\"step\")\n",
    "\n",
    "axes[2].bar(n, n**2, align=\"center\", width=0.8, alpha=0.5)\n",
    "axes[2].set_title(\"bar\")\n",
    "\n",
    "axes[3].fill_between(x, x**2, x**3, color=\"green\", alpha=0.5);\n",
    "axes[3].set_title(\"fill_between\");"
   ]
  },
  {
   "cell_type": "markdown",
   "metadata": {
    "colab_type": "text",
    "id": "NQdeqyVApSsp"
   },
   "source": [
    "### Anotaciones de texto"
   ]
  },
  {
   "cell_type": "markdown",
   "metadata": {
    "colab_type": "text",
    "id": "xk5NYSH7pSsp"
   },
   "source": [
    "Se puede anotar texto en figuras matplotlib usando la función `text`. Es compatible con el formato LaTeX al igual que los textos y títulos de las etiquetas de ejes:"
   ]
  },
  {
   "cell_type": "code",
   "execution_count": null,
   "metadata": {
    "colab": {
     "base_uri": "https://localhost:8080/",
     "height": 265
    },
    "colab_type": "code",
    "executionInfo": {
     "elapsed": 722,
     "status": "ok",
     "timestamp": 1583590819109,
     "user": {
      "displayName": "Beimar Rodriguez",
      "photoUrl": "https://lh3.googleusercontent.com/a-/AOh14GjuX40-0URd_w6GeGbIxaGemRJIwK0vNXOoFOBeCg=s64",
      "userId": "17662544329171634219"
     },
     "user_tz": 300
    },
    "id": "cIquoBngpSsq",
    "outputId": "d6d87785-345b-4993-f619-3db7d08d4148"
   },
   "outputs": [],
   "source": [
    "fig, ax = plt.subplots()\n",
    "\n",
    "ax.plot(xx, xx**2, xx, xx**3)\n",
    "\n",
    "ax.text(0.15, 0.2, r\"$y=x^2$\", fontsize=12, color=\"blue\")\n",
    "ax.text(0.65, 0.1, r\"$y=x^3$\", fontsize=20, color=\"green\");"
   ]
  },
  {
   "cell_type": "markdown",
   "metadata": {
    "colab_type": "text",
    "id": "ddzsQ0XHpSss"
   },
   "source": [
    "### Figuras múltiples \n",
    "\n",
    "Se pueden agregar manualmente ejes a una figura de Matplotlib usando `fig.add_axes` o usando un administrador de diseño de subfiguras como `subplots`, `subplot2grid`, o `gridspec`:"
   ]
  },
  {
   "cell_type": "markdown",
   "metadata": {
    "colab_type": "text",
    "id": "Eq7QT_PipSss"
   },
   "source": [
    "#### subplots"
   ]
  },
  {
   "cell_type": "code",
   "execution_count": null,
   "metadata": {
    "colab": {
     "base_uri": "https://localhost:8080/",
     "height": 297
    },
    "colab_type": "code",
    "executionInfo": {
     "elapsed": 1507,
     "status": "ok",
     "timestamp": 1583590990990,
     "user": {
      "displayName": "Beimar Rodriguez",
      "photoUrl": "https://lh3.googleusercontent.com/a-/AOh14GjuX40-0URd_w6GeGbIxaGemRJIwK0vNXOoFOBeCg=s64",
      "userId": "17662544329171634219"
     },
     "user_tz": 300
    },
    "id": "XchxvH-ypSss",
    "outputId": "c8174f67-2d23-4074-fc0c-966ecc13cd77"
   },
   "outputs": [],
   "source": [
    "fig, ax = plt.subplots(2, 3)\n",
    "fig.tight_layout()"
   ]
  },
  {
   "cell_type": "markdown",
   "metadata": {
    "colab_type": "text",
    "id": "6f6qit_zpSsv"
   },
   "source": [
    "#### subplot2grid"
   ]
  },
  {
   "cell_type": "code",
   "execution_count": null,
   "metadata": {
    "colab": {
     "base_uri": "https://localhost:8080/",
     "height": 297
    },
    "colab_type": "code",
    "executionInfo": {
     "elapsed": 1378,
     "status": "ok",
     "timestamp": 1583590993885,
     "user": {
      "displayName": "Beimar Rodriguez",
      "photoUrl": "https://lh3.googleusercontent.com/a-/AOh14GjuX40-0URd_w6GeGbIxaGemRJIwK0vNXOoFOBeCg=s64",
      "userId": "17662544329171634219"
     },
     "user_tz": 300
    },
    "id": "8H-3U1C1pSsv",
    "outputId": "9053cc91-2f95-4ef5-86a3-ccc36f01a7b3"
   },
   "outputs": [],
   "source": [
    "fig = plt.figure()\n",
    "ax1 = plt.subplot2grid((3,3), (0,0), colspan=3)\n",
    "ax2 = plt.subplot2grid((3,3), (1,0), colspan=2)\n",
    "ax3 = plt.subplot2grid((3,3), (1,2), rowspan=2)\n",
    "ax4 = plt.subplot2grid((3,3), (2,0))\n",
    "ax5 = plt.subplot2grid((3,3), (2,1))\n",
    "fig.tight_layout()"
   ]
  },
  {
   "cell_type": "markdown",
   "metadata": {
    "colab_type": "text",
    "id": "uxXFupXfpSsx"
   },
   "source": [
    "#### gridspec"
   ]
  },
  {
   "cell_type": "code",
   "execution_count": null,
   "metadata": {
    "colab": {},
    "colab_type": "code",
    "id": "zRklKe4ppSsy"
   },
   "outputs": [],
   "source": [
    "import matplotlib.gridspec as gridspec"
   ]
  },
  {
   "cell_type": "code",
   "execution_count": null,
   "metadata": {
    "colab": {
     "base_uri": "https://localhost:8080/",
     "height": 297
    },
    "colab_type": "code",
    "executionInfo": {
     "elapsed": 1456,
     "status": "ok",
     "timestamp": 1583591001524,
     "user": {
      "displayName": "Beimar Rodriguez",
      "photoUrl": "https://lh3.googleusercontent.com/a-/AOh14GjuX40-0URd_w6GeGbIxaGemRJIwK0vNXOoFOBeCg=s64",
      "userId": "17662544329171634219"
     },
     "user_tz": 300
    },
    "id": "Y4vfTFzppSsz",
    "outputId": "73bc57e4-c051-4f7c-88f2-33f60f28a140"
   },
   "outputs": [],
   "source": [
    "fig = plt.figure()\n",
    "\n",
    "gs = gridspec.GridSpec(2, 3, height_ratios=[2,1], width_ratios=[1,2,1])\n",
    "for g in gs:\n",
    "    ax = fig.add_subplot(g)\n",
    "    \n",
    "fig.tight_layout()"
   ]
  },
  {
   "cell_type": "markdown",
   "metadata": {
    "colab_type": "text",
    "id": "Gvvs1iHzpSs1"
   },
   "source": [
    "#### add_axes"
   ]
  },
  {
   "cell_type": "markdown",
   "metadata": {
    "colab_type": "text",
    "id": "WWXdEk7-pSs2"
   },
   "source": [
    "Agregar ejes manualmente con `add_axes` es útil para agregar inserciones a las figuras:"
   ]
  },
  {
   "cell_type": "code",
   "execution_count": null,
   "metadata": {
    "colab": {
     "base_uri": "https://localhost:8080/",
     "height": 297
    },
    "colab_type": "code",
    "executionInfo": {
     "elapsed": 1055,
     "status": "ok",
     "timestamp": 1583591005018,
     "user": {
      "displayName": "Beimar Rodriguez",
      "photoUrl": "https://lh3.googleusercontent.com/a-/AOh14GjuX40-0URd_w6GeGbIxaGemRJIwK0vNXOoFOBeCg=s64",
      "userId": "17662544329171634219"
     },
     "user_tz": 300
    },
    "id": "_lzWFPZtpSs2",
    "outputId": "0c7e0c44-f724-44e4-c65a-8e62a5d1b94f"
   },
   "outputs": [],
   "source": [
    "fig, ax = plt.subplots()\n",
    "\n",
    "ax.plot(x, x**2, x, x**3)\n",
    "fig.tight_layout()\n",
    "\n",
    "# inserción\n",
    "inset_ax = fig.add_axes([0.3, 0.55, 0.35, 0.35]) # X, Y, width, height\n",
    "\n",
    "inset_ax.plot(xx, xx**2, xx, xx**3)\n",
    "inset_ax.set_title('zoom cerca al origen')\n",
    "\n",
    "# rango del eje\n",
    "inset_ax.set_xlim(-.2, .2)\n",
    "inset_ax.set_ylim(-.005, .01)\n",
    "\n",
    "# ubicación de las marcas del eje\n",
    "inset_ax.set_yticks([-0.005,0, 0.005, 0.01])\n",
    "inset_ax.set_xticks([-0.1,0,.1]);"
   ]
  },
  {
   "cell_type": "markdown",
   "metadata": {
    "colab_type": "text",
    "id": "VnYSZY4vpSs4"
   },
   "source": [
    "### Figuras de mapas de color y contornos"
   ]
  },
  {
   "cell_type": "markdown",
   "metadata": {
    "colab_type": "text",
    "id": "TyeGaFiVpSs5"
   },
   "source": [
    "Los mapas de colores y las figuras de contorno son útiles para graficar funciones de dos variables. En la mayoría de estas funciones, utilizaremos un mapa de colores para codificar una dimensión de los datos. Hay una serie de mapas de color predefinidos. Es relativamente sencillo definir mapas de color personalizados. Para obtener una lista de mapas de color predefinidos, consulte: http://www.scipy.org/Cookbook/Matplotlib/Show_colormaps"
   ]
  },
  {
   "cell_type": "code",
   "execution_count": null,
   "metadata": {
    "colab": {},
    "colab_type": "code",
    "id": "TpgVgyOBpSs5"
   },
   "outputs": [],
   "source": [
    "import matplotlib\n",
    "alpha = 0.7\n",
    "phi_ext = 2 * np.pi * 0.5\n",
    "\n",
    "def flux_qubit_potential(phi_m, phi_p):\n",
    "    return 2 + alpha - 2 * np.cos(phi_p) * np.cos(phi_m) - alpha * np.cos(phi_ext - 2*phi_p)"
   ]
  },
  {
   "cell_type": "code",
   "execution_count": null,
   "metadata": {
    "colab": {},
    "colab_type": "code",
    "id": "RwFON_uhpSs7"
   },
   "outputs": [],
   "source": [
    "phi_m = np.linspace(0, 2*np.pi, 100)\n",
    "phi_p = np.linspace(0, 2*np.pi, 100)\n",
    "X,Y = np.meshgrid(phi_p, phi_m)\n",
    "Z = flux_qubit_potential(X, Y).T"
   ]
  },
  {
   "cell_type": "markdown",
   "metadata": {
    "colab_type": "text",
    "id": "2FCcb0_zpSs-"
   },
   "source": [
    "#### pcolor"
   ]
  },
  {
   "cell_type": "code",
   "execution_count": null,
   "metadata": {
    "colab": {
     "base_uri": "https://localhost:8080/",
     "height": 269
    },
    "colab_type": "code",
    "executionInfo": {
     "elapsed": 1738,
     "status": "ok",
     "timestamp": 1583591019926,
     "user": {
      "displayName": "Beimar Rodriguez",
      "photoUrl": "https://lh3.googleusercontent.com/a-/AOh14GjuX40-0URd_w6GeGbIxaGemRJIwK0vNXOoFOBeCg=s64",
      "userId": "17662544329171634219"
     },
     "user_tz": 300
    },
    "id": "NMBoKeXopSs-",
    "outputId": "38eef34c-a94f-484d-b04d-eace1a55279d"
   },
   "outputs": [],
   "source": [
    "fig, ax = plt.subplots()\n",
    "\n",
    "p = ax.pcolor(X/(2*np.pi), Y/(2*np.pi), Z, cmap=matplotlib.cm.RdBu, vmin=abs(Z).min(), vmax=abs(Z).max())\n",
    "cb = fig.colorbar(p, ax=ax)"
   ]
  },
  {
   "cell_type": "markdown",
   "metadata": {
    "colab_type": "text",
    "id": "8-yLPXMCpStB"
   },
   "source": [
    "#### imshow"
   ]
  },
  {
   "cell_type": "code",
   "execution_count": null,
   "metadata": {
    "colab": {
     "base_uri": "https://localhost:8080/",
     "height": 269
    },
    "colab_type": "code",
    "executionInfo": {
     "elapsed": 968,
     "status": "ok",
     "timestamp": 1583591061243,
     "user": {
      "displayName": "Beimar Rodriguez",
      "photoUrl": "https://lh3.googleusercontent.com/a-/AOh14GjuX40-0URd_w6GeGbIxaGemRJIwK0vNXOoFOBeCg=s64",
      "userId": "17662544329171634219"
     },
     "user_tz": 300
    },
    "id": "laQgPkyWpStB",
    "outputId": "bd5ed890-64f3-4419-9bbd-b94e3173fd2d"
   },
   "outputs": [],
   "source": [
    "fig, ax = plt.subplots()\n",
    "\n",
    "im = ax.imshow(Z, cmap=matplotlib.cm.RdBu, vmin=abs(Z).min(), vmax=abs(Z).max(), extent=[0, 1, 0, 1])\n",
    "im.set_interpolation('bilinear')\n",
    "\n",
    "cb = fig.colorbar(im, ax=ax)"
   ]
  },
  {
   "cell_type": "markdown",
   "metadata": {
    "colab_type": "text",
    "id": "MxYja-1dpStE"
   },
   "source": [
    "#### contour"
   ]
  },
  {
   "cell_type": "code",
   "execution_count": null,
   "metadata": {
    "colab": {
     "base_uri": "https://localhost:8080/",
     "height": 269
    },
    "colab_type": "code",
    "executionInfo": {
     "elapsed": 929,
     "status": "ok",
     "timestamp": 1583591065132,
     "user": {
      "displayName": "Beimar Rodriguez",
      "photoUrl": "https://lh3.googleusercontent.com/a-/AOh14GjuX40-0URd_w6GeGbIxaGemRJIwK0vNXOoFOBeCg=s64",
      "userId": "17662544329171634219"
     },
     "user_tz": 300
    },
    "id": "NPaA_JaqpStE",
    "outputId": "2e8b9245-617f-4f9a-d501-45ffb82cdfa2"
   },
   "outputs": [],
   "source": [
    "fig, ax = plt.subplots()\n",
    "\n",
    "cnt = ax.contour(Z, cmap=matplotlib.cm.RdBu, vmin=abs(Z).min(), vmax=abs(Z).max(), extent=[0, 1, 0, 1])"
   ]
  },
  {
   "cell_type": "markdown",
   "metadata": {
    "colab_type": "text",
    "id": "QuI1bFbLpStG"
   },
   "source": [
    "### Figuras 3D"
   ]
  },
  {
   "cell_type": "markdown",
   "metadata": {
    "colab_type": "text",
    "id": "LDyO26K_pStH"
   },
   "source": [
    "Para usar gráficos 3D en matplotlib, primero necesitamos crear una instancia de la clase `Axes3D`. Los ejes 3D se pueden agregar a un canvas de figuras matplotlib exactamente de la misma manera que los ejes 2D; o, más convenientemente, pasando un argumento de palabra clave `projection='3d'` a los métodos` add_axes` o `add_subplot`."
   ]
  },
  {
   "cell_type": "code",
   "execution_count": null,
   "metadata": {
    "colab": {},
    "colab_type": "code",
    "id": "8zhp7eNPpStH"
   },
   "outputs": [],
   "source": [
    "from mpl_toolkits.mplot3d.axes3d import Axes3D"
   ]
  },
  {
   "cell_type": "markdown",
   "metadata": {
    "colab_type": "text",
    "id": "K-YDne10pStJ"
   },
   "source": [
    "#### Superficies"
   ]
  },
  {
   "cell_type": "code",
   "execution_count": null,
   "metadata": {
    "colab": {
     "base_uri": "https://localhost:8080/",
     "height": 357
    },
    "colab_type": "code",
    "executionInfo": {
     "elapsed": 3105,
     "status": "ok",
     "timestamp": 1583591074051,
     "user": {
      "displayName": "Beimar Rodriguez",
      "photoUrl": "https://lh3.googleusercontent.com/a-/AOh14GjuX40-0URd_w6GeGbIxaGemRJIwK0vNXOoFOBeCg=s64",
      "userId": "17662544329171634219"
     },
     "user_tz": 300
    },
    "id": "i_g2rGR4pStJ",
    "outputId": "9f093d0d-0295-40a9-97c2-4c1fea99fda6"
   },
   "outputs": [],
   "source": [
    "fig = plt.figure(figsize=(14,6))\n",
    "\n",
    "# `ax` es un eje 3D por el parámetro projection='3d' en add_subplot\n",
    "ax = fig.add_subplot(1, 2, 1, projection='3d')\n",
    "\n",
    "p = ax.plot_surface(X, Y, Z, rstride=4, cstride=4, linewidth=0)\n",
    "\n",
    "# superficie con graduación de color y barra de color\n",
    "ax = fig.add_subplot(1, 2, 2, projection='3d')\n",
    "p = ax.plot_surface(X, Y, Z, rstride=1, cstride=1, cmap=matplotlib.cm.coolwarm, linewidth=0, antialiased=False)\n",
    "cb = fig.colorbar(p, shrink=0.5)"
   ]
  },
  {
   "cell_type": "markdown",
   "metadata": {
    "colab_type": "text",
    "id": "U6OM7QyopStL"
   },
   "source": [
    "#### Gráfico \"Wire-frame\" "
   ]
  },
  {
   "cell_type": "code",
   "execution_count": null,
   "metadata": {
    "colab": {
     "base_uri": "https://localhost:8080/",
     "height": 357
    },
    "colab_type": "code",
    "executionInfo": {
     "elapsed": 1226,
     "status": "ok",
     "timestamp": 1583591079227,
     "user": {
      "displayName": "Beimar Rodriguez",
      "photoUrl": "https://lh3.googleusercontent.com/a-/AOh14GjuX40-0URd_w6GeGbIxaGemRJIwK0vNXOoFOBeCg=s64",
      "userId": "17662544329171634219"
     },
     "user_tz": 300
    },
    "id": "ucUa75pKpStM",
    "outputId": "56bdb424-fcf4-44e0-dbd9-062a882d1c5f"
   },
   "outputs": [],
   "source": [
    "fig = plt.figure(figsize=(8,6))\n",
    "\n",
    "ax = fig.add_subplot(1, 1, 1, projection='3d')\n",
    "\n",
    "p = ax.plot_wireframe(X, Y, Z, rstride=4, cstride=4)"
   ]
  },
  {
   "cell_type": "markdown",
   "metadata": {
    "colab_type": "text",
    "id": "YEOGoYXBpStO"
   },
   "source": [
    "#### Contornos con proyecciones"
   ]
  },
  {
   "cell_type": "code",
   "execution_count": null,
   "metadata": {
    "colab": {
     "base_uri": "https://localhost:8080/",
     "height": 357
    },
    "colab_type": "code",
    "executionInfo": {
     "elapsed": 1324,
     "status": "ok",
     "timestamp": 1583591084975,
     "user": {
      "displayName": "Beimar Rodriguez",
      "photoUrl": "https://lh3.googleusercontent.com/a-/AOh14GjuX40-0URd_w6GeGbIxaGemRJIwK0vNXOoFOBeCg=s64",
      "userId": "17662544329171634219"
     },
     "user_tz": 300
    },
    "id": "sCx_X8WWpStP",
    "outputId": "fa6f159d-c2c5-4a99-dbf9-c9e7ae610bab"
   },
   "outputs": [],
   "source": [
    "fig = plt.figure(figsize=(8,6))\n",
    "\n",
    "ax = fig.add_subplot(1,1,1, projection='3d')\n",
    "\n",
    "ax.plot_surface(X, Y, Z, rstride=4, cstride=4, alpha=0.25)\n",
    "cset = ax.contour(X, Y, Z, zdir='z', offset=-np.pi, cmap=matplotlib.cm.coolwarm)\n",
    "cset = ax.contour(X, Y, Z, zdir='x', offset=-np.pi, cmap=matplotlib.cm.coolwarm)\n",
    "cset = ax.contour(X, Y, Z, zdir='y', offset=3*np.pi, cmap=matplotlib.cm.coolwarm)\n",
    "\n",
    "ax.set_xlim3d(-np.pi, 2*np.pi);\n",
    "ax.set_ylim3d(0, 3*np.pi);\n",
    "ax.set_zlim3d(-np.pi, 2*np.pi);"
   ]
  },
  {
   "cell_type": "markdown",
   "metadata": {
    "colab_type": "text",
    "id": "77riMVzzGX7v"
   },
   "source": [
    "### Ejemplo"
   ]
  },
  {
   "cell_type": "markdown",
   "metadata": {
    "colab_type": "text",
    "id": "Db0fxr7IGbnA"
   },
   "source": [
    "Haga un gráfico de dispersión 3d para 200 puntos. \n",
    "\n",
    "Los puntos se generan con base una distribución normal (multivariada).\n",
    "\n",
    "Los parámetros de la distribución normal multivariada son: "
   ]
  },
  {
   "cell_type": "markdown",
   "metadata": {
    "colab_type": "text",
    "id": "FlEE1d2NG0ai"
   },
   "source": [
    "Media"
   ]
  },
  {
   "cell_type": "code",
   "execution_count": null,
   "metadata": {
    "colab": {},
    "colab_type": "code",
    "id": "eLp19uvQG85q"
   },
   "outputs": [],
   "source": [
    "from mpl_toolkits.mplot3d import Axes3D\n",
    "import numpy as np\n",
    "from matplotlib import pyplot as plt\n",
    "\n",
    "#Media\n",
    "mu_vec = np.array([0,100,20])"
   ]
  },
  {
   "cell_type": "markdown",
   "metadata": {
    "colab_type": "text",
    "id": "Jm7nr3YrG9f2"
   },
   "source": [
    "Matriz de Covarianza"
   ]
  },
  {
   "cell_type": "code",
   "execution_count": null,
   "metadata": {
    "colab": {},
    "colab_type": "code",
    "id": "TayUPdFpIusw"
   },
   "outputs": [],
   "source": [
    "cov_mat = np.array([[10,0,0],[0,100,0],[0,0,10]]) # covariance matrix"
   ]
  },
  {
   "cell_type": "markdown",
   "metadata": {
    "colab_type": "text",
    "id": "YvRWkopCIw2W"
   },
   "source": [
    "Generación de los 200 puntos"
   ]
  },
  {
   "cell_type": "code",
   "execution_count": null,
   "metadata": {
    "colab": {},
    "colab_type": "code",
    "id": "RD4XVcOIHByO"
   },
   "outputs": [],
   "source": [
    "sample = np.random.multivariate_normal(mu_vec, cov_mat, 200)"
   ]
  },
  {
   "cell_type": "markdown",
   "metadata": {
    "colab_type": "text",
    "id": "tLOWJXJMHGec"
   },
   "source": [
    "En su gráfica ponga cada punto como una cruz en color azul y describa cada eje X, Y, Z.\n",
    "\n",
    "Su gráfico debe verse así:"
   ]
  },
  {
   "cell_type": "code",
   "execution_count": null,
   "metadata": {
    "colab": {
     "base_uri": "https://localhost:8080/",
     "height": 466
    },
    "colab_type": "code",
    "executionInfo": {
     "elapsed": 1336,
     "status": "ok",
     "timestamp": 1583591125090,
     "user": {
      "displayName": "Beimar Rodriguez",
      "photoUrl": "https://lh3.googleusercontent.com/a-/AOh14GjuX40-0URd_w6GeGbIxaGemRJIwK0vNXOoFOBeCg=s64",
      "userId": "17662544329171634219"
     },
     "user_tz": 300
    },
    "id": "Zpr1j9dTA5Xd",
    "outputId": "dd6c682e-1d3b-40d8-da05-3ea31e53f04c"
   },
   "outputs": [],
   "source": [
    "fig = plt.figure(figsize=(8,8))\n",
    "ax = fig.add_subplot(111, projection='3d')\n",
    "   \n",
    "ax.scatter(sample[:,0], sample[:,1], sample[:,2], \n",
    "           marker='x', color='blue', s=40, label='sample data')\n",
    "\n",
    "ax.set_xlabel('eje X')\n",
    "ax.set_ylabel('eje Y')\n",
    "ax.set_zlabel('eje Z')\n",
    "\n",
    "plt.title('3D Scatter Plot')\n",
    "     \n",
    "plt.show()"
   ]
  }
 ],
 "metadata": {
  "colab": {
   "collapsed_sections": [],
   "name": "Matplotlib.ipynb",
   "provenance": []
  },
  "kernelspec": {
   "display_name": "Python 3",
   "language": "python",
   "name": "python3"
  },
  "language_info": {
   "codemirror_mode": {
    "name": "ipython",
    "version": 3
   },
   "file_extension": ".py",
   "mimetype": "text/x-python",
   "name": "python",
   "nbconvert_exporter": "python",
   "pygments_lexer": "ipython3",
   "version": "3.7.4"
  }
 },
 "nbformat": 4,
 "nbformat_minor": 4
}
