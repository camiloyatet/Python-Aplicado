{
 "cells": [
  {
   "cell_type": "markdown",
   "metadata": {},
   "source": [
    "# Ejercicio Aplicado"
   ]
  },
  {
   "cell_type": "markdown",
   "metadata": {},
   "source": [
    "Colsubsidio ha dividido la prestación de sus servicios en once diferentes unidades especializadas de servicio (UES). Una de ellas, la UES de Droguerías, es la encargada de atender las necesidades de la población, afiliados y no afiliados a la caja a través de la red de droguerías a nivel nacional en cuanto a medicamentos, dispositivos médicos, fórmulas nutricionales y demás insumos. \n",
    "\n",
    "Se tienen las siguientes bases de datos:\n",
    "\n",
    "1. **Afiliados vigentes**: Datos de las personas con afliación vigente a la caja\n",
    "1. **Demograficos**: Descripcion socio-demográfica de los afiliados\n",
    "1. **Empleador**: Datos de la empresa aportante.\n",
    "1. **Familiar**: Informacion del grupo familiar de los afiliados\n",
    "1. **Medicamentos**: Bases de datos del consumos por año de las droguerías comerciales de Colsubsidio\n",
    "\n",
    "Las bases se relacionan de la siguiente manera:\n",
    "\n",
    " ![diagrama ER](images/ERdiagram.png \"Optional title\")\n",
    " \n",
    " Se plantea entrenar dos modelos:\n",
    " \n",
    " 1. Calculo de la probabilidad que un afiliado compre o no en la drogueria\n",
    " 2. Estimcaion del gasto anual en medicamentos de los afiliados"
   ]
  },
  {
   "cell_type": "code",
   "execution_count": null,
   "metadata": {},
   "outputs": [],
   "source": [
    "import pandas as pd \n",
    "import numpy  as np\n",
    "import seaborn as sns\n",
    "import matplotlib.pyplot as plt\n",
    "from scipy import stats\n",
    "sns.set_palette(\"GnBu_d\")\n",
    "sns.set_style('whitegrid')"
   ]
  },
  {
   "cell_type": "markdown",
   "metadata": {},
   "source": [
    "## 0. Cargue y depuracion de Datos"
   ]
  },
  {
   "cell_type": "markdown",
   "metadata": {},
   "source": [
    "### Cargue de datos"
   ]
  },
  {
   "cell_type": "code",
   "execution_count": null,
   "metadata": {},
   "outputs": [],
   "source": [
    "# Afiliado\n",
    "afiliado = pd.read_csv(\"data/Afiliados.csv\", encoding=\"latin\", sep=\"|\")\n",
    "afiliado.head()"
   ]
  },
  {
   "cell_type": "code",
   "execution_count": null,
   "metadata": {},
   "outputs": [],
   "source": [
    "# Demograficos\n",
    "demograficos = pd.read_csv(\"data/Demograficos.csv\", encoding=\"latin\", sep=\";\")\n",
    "demograficos.head()"
   ]
  },
  {
   "cell_type": "code",
   "execution_count": null,
   "metadata": {},
   "outputs": [],
   "source": [
    "# Empleador\n",
    "empleador = pd.read_csv(\"data/Empleador.csv\", encoding=\"latin\")\n",
    "empleador.head()"
   ]
  },
  {
   "cell_type": "code",
   "execution_count": null,
   "metadata": {},
   "outputs": [],
   "source": [
    "# Familiar\n",
    "familiar = pd.read_excel(\"data/Familiar.xlsx\", encoding=\"latin\")\n",
    "familiar.head()"
   ]
  },
  {
   "cell_type": "code",
   "execution_count": null,
   "metadata": {},
   "outputs": [],
   "source": [
    "# Medicamentos\n",
    "medicamentos = pd.read_table(\"data/Medicamentos2018.txt\", encoding=\"latin\")\n",
    "medicamentos.head()"
   ]
  },
  {
   "cell_type": "markdown",
   "metadata": {},
   "source": [
    "### Depuracion de Datos"
   ]
  },
  {
   "cell_type": "code",
   "execution_count": null,
   "metadata": {},
   "outputs": [],
   "source": [
    "df1 = pd.merge(afiliado, demograficos, on='IdPersona', how='left')\n",
    "df1.head()"
   ]
  },
  {
   "cell_type": "code",
   "execution_count": null,
   "metadata": {},
   "outputs": [],
   "source": [
    "df2 = pd.merge(df1, familiar, on='IdPersona', how='left')\n",
    "df2.head()"
   ]
  },
  {
   "cell_type": "code",
   "execution_count": null,
   "metadata": {},
   "outputs": [],
   "source": [
    "persona = pd.merge(df2, empleador, on='IdEmpresa', how='left')\n",
    "persona.head()"
   ]
  },
  {
   "cell_type": "code",
   "execution_count": null,
   "metadata": {},
   "outputs": [],
   "source": [
    "persona.info()"
   ]
  },
  {
   "cell_type": "markdown",
   "metadata": {},
   "source": [
    "#### Consumo Medicamentos Afiliado\n",
    "\n",
    "Crea una base para identificar los afiliados que consumieron en la drogueria en el 2018"
   ]
  },
  {
   "cell_type": "code",
   "execution_count": null,
   "metadata": {},
   "outputs": [],
   "source": [
    "medicamentos['Consume'] = 1\n",
    "consumo_medicamentos=pd.DataFrame(medicamentos.groupby(['IdPersona','Consume'])['Venta_Neta'].sum().reset_index())"
   ]
  },
  {
   "cell_type": "code",
   "execution_count": null,
   "metadata": {},
   "outputs": [],
   "source": [
    "data_afiliados = pd.merge(persona, consumo_medicamentos, on='IdPersona', how='left')\n",
    "\n",
    "#Si el afilido no cruza en el consumo se asigna como cero en la variable indicadora y en el consumo\n",
    "data_afiliados['Consume'].fillna(0, inplace=True)\n",
    "data_afiliados['Venta_Neta'].fillna(0, inplace=True)"
   ]
  },
  {
   "cell_type": "code",
   "execution_count": null,
   "metadata": {},
   "outputs": [],
   "source": [
    "data_afiliados.head()"
   ]
  },
  {
   "cell_type": "code",
   "execution_count": null,
   "metadata": {},
   "outputs": [],
   "source": [
    "del afiliado, demograficos, empleador, familiar, medicamentos, consumo_medicamentos, df1, df2 "
   ]
  },
  {
   "cell_type": "markdown",
   "metadata": {},
   "source": [
    "## 1. Pre-procesamiento de Datos"
   ]
  },
  {
   "cell_type": "markdown",
   "metadata": {},
   "source": [
    "### Eliminacion de variables innecesarias"
   ]
  },
  {
   "cell_type": "code",
   "execution_count": null,
   "metadata": {},
   "outputs": [],
   "source": [
    "data_afiliados.columns"
   ]
  },
  {
   "cell_type": "code",
   "execution_count": null,
   "metadata": {},
   "outputs": [],
   "source": [
    "data_afiliados.drop(['Piramide1_y', 'Piramide2_y', 'CIIU', 'ActividadCIIU', 'SeccionCIIU',\n",
    "                     'DivisionCIIU', 'GrupoCIIU', 'DescripcionCIIU', 'MunicipioEmpresa', 'LocalidadEmpresa',\n",
    "                     'BarrioEmpresa'], axis=1, inplace=True)"
   ]
  },
  {
   "cell_type": "code",
   "execution_count": null,
   "metadata": {},
   "outputs": [],
   "source": [
    "data_afiliados.columns"
   ]
  },
  {
   "cell_type": "markdown",
   "metadata": {},
   "source": [
    "### Definicion del rol de Variables"
   ]
  },
  {
   "cell_type": "code",
   "execution_count": null,
   "metadata": {},
   "outputs": [],
   "source": [
    "# Variables Categoricas\n",
    "categoricas=['Categoria', 'Piramide1_x', 'Piramide2_x', 'Genero',\n",
    "            'SectorPoblacional', 'estado_civil', 'DepartamentoPersona', 'MunicipioPersona',\n",
    "            'segmento_grupo_familiar', 'DepartamentoEmpresa', 'SectorCIIU']\n",
    "\n",
    "for var in categoricas:\n",
    "    data_afiliados[var] = data_afiliados[var].astype(\"category\")"
   ]
  },
  {
   "cell_type": "code",
   "execution_count": null,
   "metadata": {},
   "outputs": [],
   "source": [
    "# Variable Objetivo\n",
    "data_afiliados['Consume'] = data_afiliados['Consume'].astype(\"int64\")"
   ]
  },
  {
   "cell_type": "code",
   "execution_count": null,
   "metadata": {},
   "outputs": [],
   "source": [
    "data_afiliados.dtypes"
   ]
  },
  {
   "cell_type": "markdown",
   "metadata": {},
   "source": [
    "## 1. Descripción de Datos"
   ]
  },
  {
   "cell_type": "code",
   "execution_count": null,
   "metadata": {},
   "outputs": [],
   "source": [
    "sns.countplot(x=\"Categoria\", data=data_afiliados)"
   ]
  },
  {
   "cell_type": "code",
   "execution_count": null,
   "metadata": {},
   "outputs": [],
   "source": [
    "sns.countplot(x=\"Piramide1_x\", data=data_afiliados)"
   ]
  },
  {
   "cell_type": "code",
   "execution_count": null,
   "metadata": {},
   "outputs": [],
   "source": [
    "sns.countplot(x=\"Genero\", data=data_afiliados)"
   ]
  },
  {
   "cell_type": "code",
   "execution_count": null,
   "metadata": {},
   "outputs": [],
   "source": [
    "sns.countplot(x=\"SectorPoblacional\", data=data_afiliados)"
   ]
  },
  {
   "cell_type": "code",
   "execution_count": null,
   "metadata": {},
   "outputs": [],
   "source": [
    "sns.countplot(x=\"estado_civil\", data=data_afiliados)"
   ]
  },
  {
   "cell_type": "code",
   "execution_count": null,
   "metadata": {},
   "outputs": [],
   "source": [
    "sns.countplot(x=\"DepartamentoPersona\", data=data_afiliados)"
   ]
  },
  {
   "cell_type": "code",
   "execution_count": null,
   "metadata": {},
   "outputs": [],
   "source": [
    "sns.countplot(x=\"SectorCIIU\", data=data_afiliados)"
   ]
  },
  {
   "cell_type": "code",
   "execution_count": null,
   "metadata": {
    "colab": {},
    "colab_type": "code",
    "id": "YUpRNmfynB3W",
    "outputId": "09ff3e23-2a9a-435b-9e20-b9c07e2df733"
   },
   "outputs": [],
   "source": [
    "sns.jointplot(x='Venta_Neta',y='Edad',data=data_afiliados)"
   ]
  },
  {
   "cell_type": "code",
   "execution_count": null,
   "metadata": {},
   "outputs": [],
   "source": [
    "# sns.pairplot(data_afiliados, diag_kind =\"kde\")"
   ]
  },
  {
   "cell_type": "markdown",
   "metadata": {},
   "source": [
    "### Matriz de Correlaciones"
   ]
  },
  {
   "cell_type": "code",
   "execution_count": null,
   "metadata": {},
   "outputs": [],
   "source": [
    "fig,ax= plt.subplots()\n",
    "fig.set_size_inches(20,10)\n",
    "sns.heatmap(data_afiliados.corr(), cmap=\"YlGnBu\", square=True,annot=True)"
   ]
  },
  {
   "cell_type": "markdown",
   "metadata": {},
   "source": [
    "### Diagramas de Cajas para variables categóricas"
   ]
  },
  {
   "cell_type": "code",
   "execution_count": null,
   "metadata": {},
   "outputs": [],
   "source": [
    "fig , axes = plt.subplots(nrows=2,ncols=2)\n",
    "fig.set_size_inches(10, 10)\n",
    "sns.boxplot(data=data_afiliados,y=\"Venta_Neta\",x='Categoria',orient=\"v\",showfliers = False, ax=axes[0][0])\n",
    "sns.boxplot(data=data_afiliados,y=\"Venta_Neta\",x='Piramide1_x',orient=\"v\", showfliers = False, ax=axes[1][0])\n",
    "sns.boxplot(data=data_afiliados,y=\"Venta_Neta\",x='segmento_grupo_familiar',orient=\"v\", showfliers = False, ax=axes[1][1])\n",
    "sns.boxplot(data=data_afiliados,y=\"Venta_Neta\",x='SectorPoblacional',orient=\"v\",showfliers = False, ax=axes[0][1])"
   ]
  },
  {
   "cell_type": "markdown",
   "metadata": {},
   "source": [
    "### Descricpcion de las variables Objetivo"
   ]
  },
  {
   "cell_type": "code",
   "execution_count": null,
   "metadata": {},
   "outputs": [],
   "source": [
    "sns.countplot(x=\"Consume\", data=data_afiliados)"
   ]
  },
  {
   "cell_type": "code",
   "execution_count": null,
   "metadata": {},
   "outputs": [],
   "source": [
    "sns.distplot(data_afiliados[\"Venta_Neta\"] ,bins=50)"
   ]
  },
  {
   "cell_type": "code",
   "execution_count": null,
   "metadata": {},
   "outputs": [],
   "source": [
    "fig,axes = plt.subplots(ncols=2,nrows=1)\n",
    "fig.set_size_inches(12, 10)\n",
    "sns.distplot(data_afiliados[\"Venta_Neta\"],ax=axes[0])\n",
    "stats.probplot(data_afiliados[\"Venta_Neta\"], dist='norm', fit=True, plot=axes[1])"
   ]
  },
  {
   "cell_type": "markdown",
   "metadata": {},
   "source": [
    "## 1. Preprocesamiento"
   ]
  },
  {
   "cell_type": "code",
   "execution_count": null,
   "metadata": {},
   "outputs": [],
   "source": [
    "data_afiliados.isna().sum()"
   ]
  },
  {
   "cell_type": "code",
   "execution_count": null,
   "metadata": {},
   "outputs": [],
   "source": [
    "data_afiliados.columns[data_afiliados.isna().any()].tolist()"
   ]
  },
  {
   "cell_type": "markdown",
   "metadata": {},
   "source": [
    "### Imputar datos Numericos"
   ]
  },
  {
   "cell_type": "code",
   "execution_count": null,
   "metadata": {},
   "outputs": [],
   "source": [
    "from sklearn.impute import SimpleImputer\n",
    "imp = SimpleImputer(missing_values=np.nan, strategy='mean')\n",
    "imp.fit(data_afiliados[['cx_persona',  'cy_persona', 'EstratoPersona', 'cx_empresa', 'cy_empresa']])\n",
    "data_afiliados[['cx_persona',  'cy_persona', 'EstratoPersona', \n",
    "                'cx_empresa', 'cy_empresa']]=pd.DataFrame(imp.transform(data_afiliados[['cx_persona', 'cy_persona', 'EstratoPersona',\n",
    "                                                                                       'cx_empresa', 'cy_empresa']]))\n",
    "data_afiliados.head()"
   ]
  },
  {
   "cell_type": "code",
   "execution_count": null,
   "metadata": {},
   "outputs": [],
   "source": [
    "data_afiliados.columns[data_afiliados.isna().any()].tolist()"
   ]
  },
  {
   "cell_type": "markdown",
   "metadata": {},
   "source": [
    "### Imputar datos Categoricos"
   ]
  },
  {
   "cell_type": "code",
   "execution_count": null,
   "metadata": {},
   "outputs": [],
   "source": [
    "from sklearn.impute import SimpleImputer\n",
    "imp = SimpleImputer(missing_values=np.nan, strategy='most_frequent')\n",
    "imp.fit(data_afiliados[['DepartamentoPersona', 'MunicipioPersona', 'DepartamentoEmpresa']])\n",
    "data_afiliados[['DepartamentoPersona', 'MunicipioPersona', \n",
    "                'DepartamentoEmpresa']]=pd.DataFrame(imp.transform(data_afiliados[['DepartamentoPersona', 'MunicipioPersona', \n",
    "                                                                                   'DepartamentoEmpresa']]))\n",
    "data_afiliados.head()"
   ]
  },
  {
   "cell_type": "code",
   "execution_count": null,
   "metadata": {},
   "outputs": [],
   "source": [
    "data_afiliados.columns[data_afiliados.isna().any()].tolist()"
   ]
  },
  {
   "cell_type": "markdown",
   "metadata": {},
   "source": [
    "### Codificación de variables Categóricas"
   ]
  },
  {
   "cell_type": "code",
   "execution_count": null,
   "metadata": {},
   "outputs": [],
   "source": [
    "categoricas"
   ]
  },
  {
   "cell_type": "code",
   "execution_count": null,
   "metadata": {},
   "outputs": [],
   "source": [
    "data_afiliados=pd.get_dummies(data_afiliados, columns=categoricas, prefix=[\"cat_\", \"pir1_\", \"pir_2\", \"genero_\",\"sec_\", \"civ_\", \"deptoP_\", \"mpioP_\",\n",
    "                                                              \"grfm_\", \"DeptoEmp_\", \"CIIU_\"])\n",
    "data_afiliados.head(3)"
   ]
  },
  {
   "cell_type": "markdown",
   "metadata": {},
   "source": [
    "## Modelo de regresion"
   ]
  },
  {
   "cell_type": "code",
   "execution_count": null,
   "metadata": {},
   "outputs": [],
   "source": [
    "data_reg = data_afiliados[data_afiliados['Venta_Neta']>0]\n",
    "data_reg.shape"
   ]
  },
  {
   "cell_type": "code",
   "execution_count": null,
   "metadata": {},
   "outputs": [],
   "source": [
    "data_reg.columns[data_reg.isna().any()].tolist()"
   ]
  },
  {
   "cell_type": "markdown",
   "metadata": {},
   "source": [
    "### Construccion de conjuntos Train y Test"
   ]
  },
  {
   "cell_type": "code",
   "execution_count": null,
   "metadata": {},
   "outputs": [],
   "source": [
    "X = data_reg.drop(['Venta_Neta', 'IdPersona', 'IdEmpresa', 'Consume'], axis=1)\n",
    "# y = np.log(data_reg['Venta_Neta'])\n",
    "y = data_reg['Venta_Neta']"
   ]
  },
  {
   "cell_type": "code",
   "execution_count": null,
   "metadata": {},
   "outputs": [],
   "source": [
    "from sklearn.model_selection import train_test_split\n",
    "X_train, X_test, y_train, y_test = train_test_split(X, y, test_size=0.8, random_state=31415)\n",
    "print(X_train.shape, X_test.shape, y_train.shape, y_test.shape)"
   ]
  },
  {
   "cell_type": "code",
   "execution_count": null,
   "metadata": {},
   "outputs": [],
   "source": [
    "from sklearn.linear_model import LinearRegression\n",
    "from sklearn.linear_model import RidgeCV\n",
    "from sklearn.linear_model import LassoCV\n",
    "from sklearn.linear_model import SGDRegressor\n",
    "from sklearn.linear_model import LarsCV\n",
    "from sklearn.linear_model import BayesianRidge\n",
    "from sklearn.ensemble import AdaBoostRegressor\n",
    "from sklearn.ensemble import BaggingRegressor\n",
    "from sklearn.ensemble import ExtraTreesRegressor\n",
    "from sklearn.ensemble import GradientBoostingRegressor\n",
    "from sklearn.ensemble import RandomForestRegressor\n",
    "from sklearn.ensemble import ExtraTreesRegressor\n",
    "\n",
    "models = {\n",
    "    'rl': LinearRegression(normalize=True, n_jobs=-1)\n",
    "    ,'ridge': RidgeCV(cv=10,alphas=(0.1,0.2,0.3,0.4,0.5,0.6,0.7,0.8,0.9,1))\n",
    "    ,'lasso': LassoCV(cv=10,alphas=(0.1,0.2,0.3,0.4,0.5,0.6,0.7,0.8,0.9,1))\n",
    "    ,'SGD': SGDRegressor()\n",
    "    ,'LARS': LarsCV(n_jobs=-1)\n",
    "    ,'Bay_Ridge': BayesianRidge()\n",
    "    ,'AdaBoost': AdaBoostRegressor()\n",
    "    ,'Bagging': BaggingRegressor(random_state=31415)\n",
    "    ,'Trees': ExtraTreesRegressor(random_state=31415)\n",
    "    ,'GradientBoosting': GradientBoostingRegressor(random_state=31415, n_estimators=500)\n",
    "    ,'RandomForest': RandomForestRegressor(random_state=31415)\n",
    "    ,'ExtraTrees': ExtraTreesRegressor(random_state=31415)\n",
    "}"
   ]
  },
  {
   "cell_type": "code",
   "execution_count": null,
   "metadata": {},
   "outputs": [],
   "source": [
    "for model in models.keys():\n",
    "    models[model].fit(X_train, y_train)"
   ]
  },
  {
   "cell_type": "code",
   "execution_count": null,
   "metadata": {},
   "outputs": [],
   "source": [
    "y_pred = pd.DataFrame(index=X_test.index, columns=models.keys())\n",
    "for model in models.keys():\n",
    "    y_pred[model] = models[model].predict(X_test)"
   ]
  },
  {
   "cell_type": "code",
   "execution_count": null,
   "metadata": {},
   "outputs": [],
   "source": [
    "from sklearn.metrics import mean_squared_error\n",
    "\n",
    "for model in models.keys():\n",
    "    print(model, \": Error Cuadrático Medio: %.4f\"\n",
    "      % mean_squared_error(y_test,y_pred[model]))"
   ]
  },
  {
   "cell_type": "markdown",
   "metadata": {},
   "source": [
    "#### CV sobre el Modelo final"
   ]
  },
  {
   "cell_type": "markdown",
   "metadata": {},
   "source": [
    "La validación cruzada o cross-validation es una técnica utilizada para evaluar los resultados de un análisis estadístico y garantizar que son independientes de la partición entre datos de entrenamiento y prueba. Consiste en repetir y calcular la media aritmética obtenida de las medidas de evaluación sobre diferentes particiones. Se utiliza en entornos donde el objetivo principal es la predicción y se quiere estimar la precisión de un modelo que se llevará a cabo a la práctica.1​ Es una técnica muy utilizada en proyectos de inteligencia artificial para validar modelos generados.\n",
    "\n",
    "\n",
    "<img align=\"center\" width=\"500\" height=\"300\" src=\"https://upload.wikimedia.org/wikipedia/commons/1/18/Esquema_castell%C3%A0.jpg\">\n",
    "\n"
   ]
  },
  {
   "cell_type": "code",
   "execution_count": null,
   "metadata": {},
   "outputs": [],
   "source": [
    "from sklearn.model_selection import cross_val_score\n",
    "FinalMod=models['Bay_Ridge']\n",
    "\n",
    "n_cv=10\n",
    "score=-(cross_val_score(FinalMod, X_train, y_train, cv=n_cv, scoring='neg_mean_squared_error'))\n",
    "print(\"train MSE: \\n\", pd.Series(score).describe(),\"\\n\")\n",
    "\n",
    "score=-(cross_val_score(FinalMod, X_test, y_test, cv=n_cv, scoring='neg_mean_squared_error'))\n",
    "print(\"test MSE: \\n\", pd.Series(score).describe())"
   ]
  },
  {
   "cell_type": "markdown",
   "metadata": {},
   "source": [
    "## Modelo de Clasificacion"
   ]
  },
  {
   "cell_type": "markdown",
   "metadata": {},
   "source": [
    "### Construccion de conjuntos Train y Test"
   ]
  },
  {
   "cell_type": "code",
   "execution_count": null,
   "metadata": {},
   "outputs": [],
   "source": [
    "X = data_afiliados.drop(['Venta_Neta', 'IdPersona', 'IdEmpresa', 'Consume'], axis=1)\n",
    "# y = np.log(data_reg['Venta_Neta'])\n",
    "y = data_afiliados['Consume']"
   ]
  },
  {
   "cell_type": "code",
   "execution_count": null,
   "metadata": {},
   "outputs": [],
   "source": [
    "from sklearn.model_selection import train_test_split\n",
    "X_train, X_test, y_train, y_test = train_test_split(X, y, test_size=0.9, random_state=101)\n",
    "print(X_train.shape, X_test.shape, y_train.shape, y_test.shape)"
   ]
  },
  {
   "cell_type": "code",
   "execution_count": null,
   "metadata": {},
   "outputs": [],
   "source": [
    "sns.countplot(x=\"Consume\", data=data_afiliados)"
   ]
  },
  {
   "cell_type": "code",
   "execution_count": null,
   "metadata": {},
   "outputs": [],
   "source": [
    "y_train.mean()"
   ]
  },
  {
   "cell_type": "markdown",
   "metadata": {},
   "source": [
    "## Balanceo de Muestra"
   ]
  },
  {
   "cell_type": "markdown",
   "metadata": {},
   "source": [
    "Se procede a hacer un [SMOTE](https://arxiv.org/pdf/1106.1813.pdf) Synthetic Minority Over-sampling Technique"
   ]
  },
  {
   "cell_type": "markdown",
   "metadata": {},
   "source": [
    "<img align=\"center\" width=\"500\" height=\"300\" src=\"https://www.researchgate.net/publication/287601878/figure/fig1/AS:316826589384744@1452548753581/The-schematic-of-NRSBoundary-SMOTE-algorithm.png\">"
   ]
  },
  {
   "cell_type": "code",
   "execution_count": null,
   "metadata": {},
   "outputs": [],
   "source": [
    "from imblearn.over_sampling import SMOTE"
   ]
  },
  {
   "cell_type": "code",
   "execution_count": null,
   "metadata": {
    "scrolled": true
   },
   "outputs": [],
   "source": [
    "sm = SMOTE(random_state=101)\n",
    "X_res, y_res = sm.fit_sample(X_train, y_train)"
   ]
  },
  {
   "cell_type": "code",
   "execution_count": null,
   "metadata": {},
   "outputs": [],
   "source": [
    "print(X_res.shape, y_res.shape)"
   ]
  },
  {
   "cell_type": "code",
   "execution_count": null,
   "metadata": {},
   "outputs": [],
   "source": [
    "sns.countplot(y_res)"
   ]
  },
  {
   "cell_type": "code",
   "execution_count": null,
   "metadata": {},
   "outputs": [],
   "source": [
    "y_res.mean()"
   ]
  },
  {
   "cell_type": "code",
   "execution_count": null,
   "metadata": {},
   "outputs": [],
   "source": [
    "from sklearn.linear_model import LogisticRegression\n",
    "from sklearn.tree import DecisionTreeClassifier\n",
    "from sklearn.ensemble import RandomForestClassifier\n",
    "from sklearn.ensemble import GradientBoostingClassifier\n",
    "from sklearn.ensemble import AdaBoostClassifier\n",
    "from sklearn.neural_network import MLPClassifier\n",
    "from sklearn.neighbors import KNeighborsClassifier\n",
    "from sklearn.discriminant_analysis import QuadraticDiscriminantAnalysis\n",
    "\n",
    "\n",
    "models = {'lr': LogisticRegression()\n",
    "          ,'dt': DecisionTreeClassifier()\n",
    "          ,'rf': RandomForestClassifier(random_state=31415, n_jobs=-1, n_estimators=1000)\n",
    "          ,'gb': GradientBoostingClassifier(random_state=31415)\n",
    "          ,'ab': AdaBoostClassifier(random_state=31415)\n",
    "          ,'nn': MLPClassifier(alpha=1, max_iter=5000)\n",
    "          ,'kn': KNeighborsClassifier(5)\n",
    "          ,'qd': QuadraticDiscriminantAnalysis()\n",
    "         }"
   ]
  },
  {
   "cell_type": "code",
   "execution_count": null,
   "metadata": {},
   "outputs": [],
   "source": [
    "for model in models.keys():\n",
    "    models[model].fit(X_res, y_res)"
   ]
  },
  {
   "cell_type": "code",
   "execution_count": null,
   "metadata": {},
   "outputs": [],
   "source": [
    "y_pred = pd.DataFrame(index=X_test.index, columns=models.keys())\n",
    "for model in models.keys():\n",
    "    y_pred[model] = models[model].predict(X_test)"
   ]
  },
  {
   "cell_type": "code",
   "execution_count": null,
   "metadata": {},
   "outputs": [],
   "source": [
    "from sklearn.metrics import accuracy_score,precision_score, recall_score, f1_score, roc_auc_score\n",
    "\n",
    "for model in models.keys():\n",
    "    print(model,'accuracy',accuracy_score(y_test,y_pred[model]))\n",
    "    print(model,'ROC',roc_auc_score(y_test,y_pred[model]))    \n",
    "    print(model,'precision',precision_score(y_test,y_pred[model]))\n",
    "    print(model,'recall',recall_score(y_test,y_pred[model]))\n",
    "    print(model,'f1 score', f1_score(y_test,y_pred[model]))"
   ]
  }
 ],
 "metadata": {
  "kernelspec": {
   "display_name": "Python 3",
   "language": "python",
   "name": "python3"
  },
  "language_info": {
   "codemirror_mode": {
    "name": "ipython",
    "version": 3
   },
   "file_extension": ".py",
   "mimetype": "text/x-python",
   "name": "python",
   "nbconvert_exporter": "python",
   "pygments_lexer": "ipython3",
   "version": "3.7.4"
  }
 },
 "nbformat": 4,
 "nbformat_minor": 4
}
